{
  "nbformat": 4,
  "nbformat_minor": 0,
  "metadata": {
    "colab": {
      "provenance": [],
      "collapsed_sections": [
        "DPLht8F_ozM_",
        "z-xnnxu2YGlI",
        "WJxw8n2hDc-i",
        "hAizxUAmDlOg",
        "xI7HpbEKDnz7",
        "yArR9AF6EaOU",
        "cL-plpcaCdxG",
        "WUFFJXSLYO4S",
        "VbajaKUCPJax",
        "5MZKbB3jWYs-",
        "G_V0JR6mXGyq",
        "Xu2FCkAXohM5",
        "JS0d2zFgtE7x",
        "TW0Tw6pbopnx",
        "h7eE8Jj2r3h-",
        "0cJRUI9ws-PR"
      ],
      "authorship_tag": "ABX9TyN9w53XxVWV8YWp3Ky7K8il",
      "include_colab_link": true
    },
    "kernelspec": {
      "name": "python3",
      "display_name": "Python 3"
    },
    "language_info": {
      "name": "python"
    },
    "gpuClass": "standard",
    "widgets": {
      "application/vnd.jupyter.widget-state+json": {
        "2a2f38d33e2747d3ac837fc5645b7b27": {
          "model_module": "@jupyter-widgets/controls",
          "model_name": "HBoxModel",
          "model_module_version": "1.5.0",
          "state": {
            "_dom_classes": [],
            "_model_module": "@jupyter-widgets/controls",
            "_model_module_version": "1.5.0",
            "_model_name": "HBoxModel",
            "_view_count": null,
            "_view_module": "@jupyter-widgets/controls",
            "_view_module_version": "1.5.0",
            "_view_name": "HBoxView",
            "box_style": "",
            "children": [
              "IPY_MODEL_0f42f865a437496dbb5f54b9b69decc6",
              "IPY_MODEL_840ab9d17d594fd1b53472133170552e",
              "IPY_MODEL_dca318a8e39e4216b3e4de6989831ce7"
            ],
            "layout": "IPY_MODEL_0a7226e416dd48c3a2ac24573de448db"
          }
        },
        "0f42f865a437496dbb5f54b9b69decc6": {
          "model_module": "@jupyter-widgets/controls",
          "model_name": "HTMLModel",
          "model_module_version": "1.5.0",
          "state": {
            "_dom_classes": [],
            "_model_module": "@jupyter-widgets/controls",
            "_model_module_version": "1.5.0",
            "_model_name": "HTMLModel",
            "_view_count": null,
            "_view_module": "@jupyter-widgets/controls",
            "_view_module_version": "1.5.0",
            "_view_name": "HTMLView",
            "description": "",
            "description_tooltip": null,
            "layout": "IPY_MODEL_2de35e75849b486783da648d8e5f2865",
            "placeholder": "​",
            "style": "IPY_MODEL_967f8eeca535427d955600b42957541a",
            "value": "100%"
          }
        },
        "840ab9d17d594fd1b53472133170552e": {
          "model_module": "@jupyter-widgets/controls",
          "model_name": "FloatProgressModel",
          "model_module_version": "1.5.0",
          "state": {
            "_dom_classes": [],
            "_model_module": "@jupyter-widgets/controls",
            "_model_module_version": "1.5.0",
            "_model_name": "FloatProgressModel",
            "_view_count": null,
            "_view_module": "@jupyter-widgets/controls",
            "_view_module_version": "1.5.0",
            "_view_name": "ProgressView",
            "bar_style": "success",
            "description": "",
            "description_tooltip": null,
            "layout": "IPY_MODEL_9673df356a7c49eeaed1c5107537b114",
            "max": 9912422,
            "min": 0,
            "orientation": "horizontal",
            "style": "IPY_MODEL_1ddc98eca6af406aafdc86f33ef74d82",
            "value": 9912422
          }
        },
        "dca318a8e39e4216b3e4de6989831ce7": {
          "model_module": "@jupyter-widgets/controls",
          "model_name": "HTMLModel",
          "model_module_version": "1.5.0",
          "state": {
            "_dom_classes": [],
            "_model_module": "@jupyter-widgets/controls",
            "_model_module_version": "1.5.0",
            "_model_name": "HTMLModel",
            "_view_count": null,
            "_view_module": "@jupyter-widgets/controls",
            "_view_module_version": "1.5.0",
            "_view_name": "HTMLView",
            "description": "",
            "description_tooltip": null,
            "layout": "IPY_MODEL_5fe1af0319c94ee9839cc61abe1a110b",
            "placeholder": "​",
            "style": "IPY_MODEL_d2c3ff2aee2948ca9b72fb493c244b8f",
            "value": " 9912422/9912422 [00:00&lt;00:00, 143697999.99it/s]"
          }
        },
        "0a7226e416dd48c3a2ac24573de448db": {
          "model_module": "@jupyter-widgets/base",
          "model_name": "LayoutModel",
          "model_module_version": "1.2.0",
          "state": {
            "_model_module": "@jupyter-widgets/base",
            "_model_module_version": "1.2.0",
            "_model_name": "LayoutModel",
            "_view_count": null,
            "_view_module": "@jupyter-widgets/base",
            "_view_module_version": "1.2.0",
            "_view_name": "LayoutView",
            "align_content": null,
            "align_items": null,
            "align_self": null,
            "border": null,
            "bottom": null,
            "display": null,
            "flex": null,
            "flex_flow": null,
            "grid_area": null,
            "grid_auto_columns": null,
            "grid_auto_flow": null,
            "grid_auto_rows": null,
            "grid_column": null,
            "grid_gap": null,
            "grid_row": null,
            "grid_template_areas": null,
            "grid_template_columns": null,
            "grid_template_rows": null,
            "height": null,
            "justify_content": null,
            "justify_items": null,
            "left": null,
            "margin": null,
            "max_height": null,
            "max_width": null,
            "min_height": null,
            "min_width": null,
            "object_fit": null,
            "object_position": null,
            "order": null,
            "overflow": null,
            "overflow_x": null,
            "overflow_y": null,
            "padding": null,
            "right": null,
            "top": null,
            "visibility": null,
            "width": null
          }
        },
        "2de35e75849b486783da648d8e5f2865": {
          "model_module": "@jupyter-widgets/base",
          "model_name": "LayoutModel",
          "model_module_version": "1.2.0",
          "state": {
            "_model_module": "@jupyter-widgets/base",
            "_model_module_version": "1.2.0",
            "_model_name": "LayoutModel",
            "_view_count": null,
            "_view_module": "@jupyter-widgets/base",
            "_view_module_version": "1.2.0",
            "_view_name": "LayoutView",
            "align_content": null,
            "align_items": null,
            "align_self": null,
            "border": null,
            "bottom": null,
            "display": null,
            "flex": null,
            "flex_flow": null,
            "grid_area": null,
            "grid_auto_columns": null,
            "grid_auto_flow": null,
            "grid_auto_rows": null,
            "grid_column": null,
            "grid_gap": null,
            "grid_row": null,
            "grid_template_areas": null,
            "grid_template_columns": null,
            "grid_template_rows": null,
            "height": null,
            "justify_content": null,
            "justify_items": null,
            "left": null,
            "margin": null,
            "max_height": null,
            "max_width": null,
            "min_height": null,
            "min_width": null,
            "object_fit": null,
            "object_position": null,
            "order": null,
            "overflow": null,
            "overflow_x": null,
            "overflow_y": null,
            "padding": null,
            "right": null,
            "top": null,
            "visibility": null,
            "width": null
          }
        },
        "967f8eeca535427d955600b42957541a": {
          "model_module": "@jupyter-widgets/controls",
          "model_name": "DescriptionStyleModel",
          "model_module_version": "1.5.0",
          "state": {
            "_model_module": "@jupyter-widgets/controls",
            "_model_module_version": "1.5.0",
            "_model_name": "DescriptionStyleModel",
            "_view_count": null,
            "_view_module": "@jupyter-widgets/base",
            "_view_module_version": "1.2.0",
            "_view_name": "StyleView",
            "description_width": ""
          }
        },
        "9673df356a7c49eeaed1c5107537b114": {
          "model_module": "@jupyter-widgets/base",
          "model_name": "LayoutModel",
          "model_module_version": "1.2.0",
          "state": {
            "_model_module": "@jupyter-widgets/base",
            "_model_module_version": "1.2.0",
            "_model_name": "LayoutModel",
            "_view_count": null,
            "_view_module": "@jupyter-widgets/base",
            "_view_module_version": "1.2.0",
            "_view_name": "LayoutView",
            "align_content": null,
            "align_items": null,
            "align_self": null,
            "border": null,
            "bottom": null,
            "display": null,
            "flex": null,
            "flex_flow": null,
            "grid_area": null,
            "grid_auto_columns": null,
            "grid_auto_flow": null,
            "grid_auto_rows": null,
            "grid_column": null,
            "grid_gap": null,
            "grid_row": null,
            "grid_template_areas": null,
            "grid_template_columns": null,
            "grid_template_rows": null,
            "height": null,
            "justify_content": null,
            "justify_items": null,
            "left": null,
            "margin": null,
            "max_height": null,
            "max_width": null,
            "min_height": null,
            "min_width": null,
            "object_fit": null,
            "object_position": null,
            "order": null,
            "overflow": null,
            "overflow_x": null,
            "overflow_y": null,
            "padding": null,
            "right": null,
            "top": null,
            "visibility": null,
            "width": null
          }
        },
        "1ddc98eca6af406aafdc86f33ef74d82": {
          "model_module": "@jupyter-widgets/controls",
          "model_name": "ProgressStyleModel",
          "model_module_version": "1.5.0",
          "state": {
            "_model_module": "@jupyter-widgets/controls",
            "_model_module_version": "1.5.0",
            "_model_name": "ProgressStyleModel",
            "_view_count": null,
            "_view_module": "@jupyter-widgets/base",
            "_view_module_version": "1.2.0",
            "_view_name": "StyleView",
            "bar_color": null,
            "description_width": ""
          }
        },
        "5fe1af0319c94ee9839cc61abe1a110b": {
          "model_module": "@jupyter-widgets/base",
          "model_name": "LayoutModel",
          "model_module_version": "1.2.0",
          "state": {
            "_model_module": "@jupyter-widgets/base",
            "_model_module_version": "1.2.0",
            "_model_name": "LayoutModel",
            "_view_count": null,
            "_view_module": "@jupyter-widgets/base",
            "_view_module_version": "1.2.0",
            "_view_name": "LayoutView",
            "align_content": null,
            "align_items": null,
            "align_self": null,
            "border": null,
            "bottom": null,
            "display": null,
            "flex": null,
            "flex_flow": null,
            "grid_area": null,
            "grid_auto_columns": null,
            "grid_auto_flow": null,
            "grid_auto_rows": null,
            "grid_column": null,
            "grid_gap": null,
            "grid_row": null,
            "grid_template_areas": null,
            "grid_template_columns": null,
            "grid_template_rows": null,
            "height": null,
            "justify_content": null,
            "justify_items": null,
            "left": null,
            "margin": null,
            "max_height": null,
            "max_width": null,
            "min_height": null,
            "min_width": null,
            "object_fit": null,
            "object_position": null,
            "order": null,
            "overflow": null,
            "overflow_x": null,
            "overflow_y": null,
            "padding": null,
            "right": null,
            "top": null,
            "visibility": null,
            "width": null
          }
        },
        "d2c3ff2aee2948ca9b72fb493c244b8f": {
          "model_module": "@jupyter-widgets/controls",
          "model_name": "DescriptionStyleModel",
          "model_module_version": "1.5.0",
          "state": {
            "_model_module": "@jupyter-widgets/controls",
            "_model_module_version": "1.5.0",
            "_model_name": "DescriptionStyleModel",
            "_view_count": null,
            "_view_module": "@jupyter-widgets/base",
            "_view_module_version": "1.2.0",
            "_view_name": "StyleView",
            "description_width": ""
          }
        },
        "aa2a8e0ddc2648e781483d06e9dd50c7": {
          "model_module": "@jupyter-widgets/controls",
          "model_name": "HBoxModel",
          "model_module_version": "1.5.0",
          "state": {
            "_dom_classes": [],
            "_model_module": "@jupyter-widgets/controls",
            "_model_module_version": "1.5.0",
            "_model_name": "HBoxModel",
            "_view_count": null,
            "_view_module": "@jupyter-widgets/controls",
            "_view_module_version": "1.5.0",
            "_view_name": "HBoxView",
            "box_style": "",
            "children": [
              "IPY_MODEL_665ec34821364e6883c9bb36b59f28ca",
              "IPY_MODEL_b060fe2aba6f434e837cc73ed256a11b",
              "IPY_MODEL_c5699378db99408caee3cad30aa244d1"
            ],
            "layout": "IPY_MODEL_935ccbbd40924692ba62dec976acd617"
          }
        },
        "665ec34821364e6883c9bb36b59f28ca": {
          "model_module": "@jupyter-widgets/controls",
          "model_name": "HTMLModel",
          "model_module_version": "1.5.0",
          "state": {
            "_dom_classes": [],
            "_model_module": "@jupyter-widgets/controls",
            "_model_module_version": "1.5.0",
            "_model_name": "HTMLModel",
            "_view_count": null,
            "_view_module": "@jupyter-widgets/controls",
            "_view_module_version": "1.5.0",
            "_view_name": "HTMLView",
            "description": "",
            "description_tooltip": null,
            "layout": "IPY_MODEL_1580ae3a46c24469a71068eb6a78deb5",
            "placeholder": "​",
            "style": "IPY_MODEL_1497d83a6d744984b6f6eab8ae704187",
            "value": "100%"
          }
        },
        "b060fe2aba6f434e837cc73ed256a11b": {
          "model_module": "@jupyter-widgets/controls",
          "model_name": "FloatProgressModel",
          "model_module_version": "1.5.0",
          "state": {
            "_dom_classes": [],
            "_model_module": "@jupyter-widgets/controls",
            "_model_module_version": "1.5.0",
            "_model_name": "FloatProgressModel",
            "_view_count": null,
            "_view_module": "@jupyter-widgets/controls",
            "_view_module_version": "1.5.0",
            "_view_name": "ProgressView",
            "bar_style": "success",
            "description": "",
            "description_tooltip": null,
            "layout": "IPY_MODEL_4e225b7ee8d64f42b5dc49397892a3da",
            "max": 28881,
            "min": 0,
            "orientation": "horizontal",
            "style": "IPY_MODEL_3810f5bb4d0b483e98ab5a67f3b74331",
            "value": 28881
          }
        },
        "c5699378db99408caee3cad30aa244d1": {
          "model_module": "@jupyter-widgets/controls",
          "model_name": "HTMLModel",
          "model_module_version": "1.5.0",
          "state": {
            "_dom_classes": [],
            "_model_module": "@jupyter-widgets/controls",
            "_model_module_version": "1.5.0",
            "_model_name": "HTMLModel",
            "_view_count": null,
            "_view_module": "@jupyter-widgets/controls",
            "_view_module_version": "1.5.0",
            "_view_name": "HTMLView",
            "description": "",
            "description_tooltip": null,
            "layout": "IPY_MODEL_64555a7ca0764927bbab551b373ea557",
            "placeholder": "​",
            "style": "IPY_MODEL_1ac02a03bddf4974a55cd53665fcbeae",
            "value": " 28881/28881 [00:00&lt;00:00, 1184330.52it/s]"
          }
        },
        "935ccbbd40924692ba62dec976acd617": {
          "model_module": "@jupyter-widgets/base",
          "model_name": "LayoutModel",
          "model_module_version": "1.2.0",
          "state": {
            "_model_module": "@jupyter-widgets/base",
            "_model_module_version": "1.2.0",
            "_model_name": "LayoutModel",
            "_view_count": null,
            "_view_module": "@jupyter-widgets/base",
            "_view_module_version": "1.2.0",
            "_view_name": "LayoutView",
            "align_content": null,
            "align_items": null,
            "align_self": null,
            "border": null,
            "bottom": null,
            "display": null,
            "flex": null,
            "flex_flow": null,
            "grid_area": null,
            "grid_auto_columns": null,
            "grid_auto_flow": null,
            "grid_auto_rows": null,
            "grid_column": null,
            "grid_gap": null,
            "grid_row": null,
            "grid_template_areas": null,
            "grid_template_columns": null,
            "grid_template_rows": null,
            "height": null,
            "justify_content": null,
            "justify_items": null,
            "left": null,
            "margin": null,
            "max_height": null,
            "max_width": null,
            "min_height": null,
            "min_width": null,
            "object_fit": null,
            "object_position": null,
            "order": null,
            "overflow": null,
            "overflow_x": null,
            "overflow_y": null,
            "padding": null,
            "right": null,
            "top": null,
            "visibility": null,
            "width": null
          }
        },
        "1580ae3a46c24469a71068eb6a78deb5": {
          "model_module": "@jupyter-widgets/base",
          "model_name": "LayoutModel",
          "model_module_version": "1.2.0",
          "state": {
            "_model_module": "@jupyter-widgets/base",
            "_model_module_version": "1.2.0",
            "_model_name": "LayoutModel",
            "_view_count": null,
            "_view_module": "@jupyter-widgets/base",
            "_view_module_version": "1.2.0",
            "_view_name": "LayoutView",
            "align_content": null,
            "align_items": null,
            "align_self": null,
            "border": null,
            "bottom": null,
            "display": null,
            "flex": null,
            "flex_flow": null,
            "grid_area": null,
            "grid_auto_columns": null,
            "grid_auto_flow": null,
            "grid_auto_rows": null,
            "grid_column": null,
            "grid_gap": null,
            "grid_row": null,
            "grid_template_areas": null,
            "grid_template_columns": null,
            "grid_template_rows": null,
            "height": null,
            "justify_content": null,
            "justify_items": null,
            "left": null,
            "margin": null,
            "max_height": null,
            "max_width": null,
            "min_height": null,
            "min_width": null,
            "object_fit": null,
            "object_position": null,
            "order": null,
            "overflow": null,
            "overflow_x": null,
            "overflow_y": null,
            "padding": null,
            "right": null,
            "top": null,
            "visibility": null,
            "width": null
          }
        },
        "1497d83a6d744984b6f6eab8ae704187": {
          "model_module": "@jupyter-widgets/controls",
          "model_name": "DescriptionStyleModel",
          "model_module_version": "1.5.0",
          "state": {
            "_model_module": "@jupyter-widgets/controls",
            "_model_module_version": "1.5.0",
            "_model_name": "DescriptionStyleModel",
            "_view_count": null,
            "_view_module": "@jupyter-widgets/base",
            "_view_module_version": "1.2.0",
            "_view_name": "StyleView",
            "description_width": ""
          }
        },
        "4e225b7ee8d64f42b5dc49397892a3da": {
          "model_module": "@jupyter-widgets/base",
          "model_name": "LayoutModel",
          "model_module_version": "1.2.0",
          "state": {
            "_model_module": "@jupyter-widgets/base",
            "_model_module_version": "1.2.0",
            "_model_name": "LayoutModel",
            "_view_count": null,
            "_view_module": "@jupyter-widgets/base",
            "_view_module_version": "1.2.0",
            "_view_name": "LayoutView",
            "align_content": null,
            "align_items": null,
            "align_self": null,
            "border": null,
            "bottom": null,
            "display": null,
            "flex": null,
            "flex_flow": null,
            "grid_area": null,
            "grid_auto_columns": null,
            "grid_auto_flow": null,
            "grid_auto_rows": null,
            "grid_column": null,
            "grid_gap": null,
            "grid_row": null,
            "grid_template_areas": null,
            "grid_template_columns": null,
            "grid_template_rows": null,
            "height": null,
            "justify_content": null,
            "justify_items": null,
            "left": null,
            "margin": null,
            "max_height": null,
            "max_width": null,
            "min_height": null,
            "min_width": null,
            "object_fit": null,
            "object_position": null,
            "order": null,
            "overflow": null,
            "overflow_x": null,
            "overflow_y": null,
            "padding": null,
            "right": null,
            "top": null,
            "visibility": null,
            "width": null
          }
        },
        "3810f5bb4d0b483e98ab5a67f3b74331": {
          "model_module": "@jupyter-widgets/controls",
          "model_name": "ProgressStyleModel",
          "model_module_version": "1.5.0",
          "state": {
            "_model_module": "@jupyter-widgets/controls",
            "_model_module_version": "1.5.0",
            "_model_name": "ProgressStyleModel",
            "_view_count": null,
            "_view_module": "@jupyter-widgets/base",
            "_view_module_version": "1.2.0",
            "_view_name": "StyleView",
            "bar_color": null,
            "description_width": ""
          }
        },
        "64555a7ca0764927bbab551b373ea557": {
          "model_module": "@jupyter-widgets/base",
          "model_name": "LayoutModel",
          "model_module_version": "1.2.0",
          "state": {
            "_model_module": "@jupyter-widgets/base",
            "_model_module_version": "1.2.0",
            "_model_name": "LayoutModel",
            "_view_count": null,
            "_view_module": "@jupyter-widgets/base",
            "_view_module_version": "1.2.0",
            "_view_name": "LayoutView",
            "align_content": null,
            "align_items": null,
            "align_self": null,
            "border": null,
            "bottom": null,
            "display": null,
            "flex": null,
            "flex_flow": null,
            "grid_area": null,
            "grid_auto_columns": null,
            "grid_auto_flow": null,
            "grid_auto_rows": null,
            "grid_column": null,
            "grid_gap": null,
            "grid_row": null,
            "grid_template_areas": null,
            "grid_template_columns": null,
            "grid_template_rows": null,
            "height": null,
            "justify_content": null,
            "justify_items": null,
            "left": null,
            "margin": null,
            "max_height": null,
            "max_width": null,
            "min_height": null,
            "min_width": null,
            "object_fit": null,
            "object_position": null,
            "order": null,
            "overflow": null,
            "overflow_x": null,
            "overflow_y": null,
            "padding": null,
            "right": null,
            "top": null,
            "visibility": null,
            "width": null
          }
        },
        "1ac02a03bddf4974a55cd53665fcbeae": {
          "model_module": "@jupyter-widgets/controls",
          "model_name": "DescriptionStyleModel",
          "model_module_version": "1.5.0",
          "state": {
            "_model_module": "@jupyter-widgets/controls",
            "_model_module_version": "1.5.0",
            "_model_name": "DescriptionStyleModel",
            "_view_count": null,
            "_view_module": "@jupyter-widgets/base",
            "_view_module_version": "1.2.0",
            "_view_name": "StyleView",
            "description_width": ""
          }
        },
        "630d0440ff644444be9bfffa0600f04a": {
          "model_module": "@jupyter-widgets/controls",
          "model_name": "HBoxModel",
          "model_module_version": "1.5.0",
          "state": {
            "_dom_classes": [],
            "_model_module": "@jupyter-widgets/controls",
            "_model_module_version": "1.5.0",
            "_model_name": "HBoxModel",
            "_view_count": null,
            "_view_module": "@jupyter-widgets/controls",
            "_view_module_version": "1.5.0",
            "_view_name": "HBoxView",
            "box_style": "",
            "children": [
              "IPY_MODEL_f061100563c34d5ba2940501384ea7cf",
              "IPY_MODEL_7af21ef06b83486eb07dd4f921827f77",
              "IPY_MODEL_83e246bd12fc401497dd5fc35dd31bc6"
            ],
            "layout": "IPY_MODEL_e87cbed2d5fc40f4be01a6ebd2ae02ed"
          }
        },
        "f061100563c34d5ba2940501384ea7cf": {
          "model_module": "@jupyter-widgets/controls",
          "model_name": "HTMLModel",
          "model_module_version": "1.5.0",
          "state": {
            "_dom_classes": [],
            "_model_module": "@jupyter-widgets/controls",
            "_model_module_version": "1.5.0",
            "_model_name": "HTMLModel",
            "_view_count": null,
            "_view_module": "@jupyter-widgets/controls",
            "_view_module_version": "1.5.0",
            "_view_name": "HTMLView",
            "description": "",
            "description_tooltip": null,
            "layout": "IPY_MODEL_0f0d285c06f54cd2929557e3eec4c881",
            "placeholder": "​",
            "style": "IPY_MODEL_9db0e26eca87462ca2dbd2eff88fe2e7",
            "value": "100%"
          }
        },
        "7af21ef06b83486eb07dd4f921827f77": {
          "model_module": "@jupyter-widgets/controls",
          "model_name": "FloatProgressModel",
          "model_module_version": "1.5.0",
          "state": {
            "_dom_classes": [],
            "_model_module": "@jupyter-widgets/controls",
            "_model_module_version": "1.5.0",
            "_model_name": "FloatProgressModel",
            "_view_count": null,
            "_view_module": "@jupyter-widgets/controls",
            "_view_module_version": "1.5.0",
            "_view_name": "ProgressView",
            "bar_style": "success",
            "description": "",
            "description_tooltip": null,
            "layout": "IPY_MODEL_1a10a219838848b08d56738111f3fee6",
            "max": 1648877,
            "min": 0,
            "orientation": "horizontal",
            "style": "IPY_MODEL_6dffcffccc804f018bc7a504be541d76",
            "value": 1648877
          }
        },
        "83e246bd12fc401497dd5fc35dd31bc6": {
          "model_module": "@jupyter-widgets/controls",
          "model_name": "HTMLModel",
          "model_module_version": "1.5.0",
          "state": {
            "_dom_classes": [],
            "_model_module": "@jupyter-widgets/controls",
            "_model_module_version": "1.5.0",
            "_model_name": "HTMLModel",
            "_view_count": null,
            "_view_module": "@jupyter-widgets/controls",
            "_view_module_version": "1.5.0",
            "_view_name": "HTMLView",
            "description": "",
            "description_tooltip": null,
            "layout": "IPY_MODEL_52a96c9079c84e03ac32f01487fc4760",
            "placeholder": "​",
            "style": "IPY_MODEL_e60793681907451d8c58effb86c59a3a",
            "value": " 1648877/1648877 [00:00&lt;00:00, 41386254.21it/s]"
          }
        },
        "e87cbed2d5fc40f4be01a6ebd2ae02ed": {
          "model_module": "@jupyter-widgets/base",
          "model_name": "LayoutModel",
          "model_module_version": "1.2.0",
          "state": {
            "_model_module": "@jupyter-widgets/base",
            "_model_module_version": "1.2.0",
            "_model_name": "LayoutModel",
            "_view_count": null,
            "_view_module": "@jupyter-widgets/base",
            "_view_module_version": "1.2.0",
            "_view_name": "LayoutView",
            "align_content": null,
            "align_items": null,
            "align_self": null,
            "border": null,
            "bottom": null,
            "display": null,
            "flex": null,
            "flex_flow": null,
            "grid_area": null,
            "grid_auto_columns": null,
            "grid_auto_flow": null,
            "grid_auto_rows": null,
            "grid_column": null,
            "grid_gap": null,
            "grid_row": null,
            "grid_template_areas": null,
            "grid_template_columns": null,
            "grid_template_rows": null,
            "height": null,
            "justify_content": null,
            "justify_items": null,
            "left": null,
            "margin": null,
            "max_height": null,
            "max_width": null,
            "min_height": null,
            "min_width": null,
            "object_fit": null,
            "object_position": null,
            "order": null,
            "overflow": null,
            "overflow_x": null,
            "overflow_y": null,
            "padding": null,
            "right": null,
            "top": null,
            "visibility": null,
            "width": null
          }
        },
        "0f0d285c06f54cd2929557e3eec4c881": {
          "model_module": "@jupyter-widgets/base",
          "model_name": "LayoutModel",
          "model_module_version": "1.2.0",
          "state": {
            "_model_module": "@jupyter-widgets/base",
            "_model_module_version": "1.2.0",
            "_model_name": "LayoutModel",
            "_view_count": null,
            "_view_module": "@jupyter-widgets/base",
            "_view_module_version": "1.2.0",
            "_view_name": "LayoutView",
            "align_content": null,
            "align_items": null,
            "align_self": null,
            "border": null,
            "bottom": null,
            "display": null,
            "flex": null,
            "flex_flow": null,
            "grid_area": null,
            "grid_auto_columns": null,
            "grid_auto_flow": null,
            "grid_auto_rows": null,
            "grid_column": null,
            "grid_gap": null,
            "grid_row": null,
            "grid_template_areas": null,
            "grid_template_columns": null,
            "grid_template_rows": null,
            "height": null,
            "justify_content": null,
            "justify_items": null,
            "left": null,
            "margin": null,
            "max_height": null,
            "max_width": null,
            "min_height": null,
            "min_width": null,
            "object_fit": null,
            "object_position": null,
            "order": null,
            "overflow": null,
            "overflow_x": null,
            "overflow_y": null,
            "padding": null,
            "right": null,
            "top": null,
            "visibility": null,
            "width": null
          }
        },
        "9db0e26eca87462ca2dbd2eff88fe2e7": {
          "model_module": "@jupyter-widgets/controls",
          "model_name": "DescriptionStyleModel",
          "model_module_version": "1.5.0",
          "state": {
            "_model_module": "@jupyter-widgets/controls",
            "_model_module_version": "1.5.0",
            "_model_name": "DescriptionStyleModel",
            "_view_count": null,
            "_view_module": "@jupyter-widgets/base",
            "_view_module_version": "1.2.0",
            "_view_name": "StyleView",
            "description_width": ""
          }
        },
        "1a10a219838848b08d56738111f3fee6": {
          "model_module": "@jupyter-widgets/base",
          "model_name": "LayoutModel",
          "model_module_version": "1.2.0",
          "state": {
            "_model_module": "@jupyter-widgets/base",
            "_model_module_version": "1.2.0",
            "_model_name": "LayoutModel",
            "_view_count": null,
            "_view_module": "@jupyter-widgets/base",
            "_view_module_version": "1.2.0",
            "_view_name": "LayoutView",
            "align_content": null,
            "align_items": null,
            "align_self": null,
            "border": null,
            "bottom": null,
            "display": null,
            "flex": null,
            "flex_flow": null,
            "grid_area": null,
            "grid_auto_columns": null,
            "grid_auto_flow": null,
            "grid_auto_rows": null,
            "grid_column": null,
            "grid_gap": null,
            "grid_row": null,
            "grid_template_areas": null,
            "grid_template_columns": null,
            "grid_template_rows": null,
            "height": null,
            "justify_content": null,
            "justify_items": null,
            "left": null,
            "margin": null,
            "max_height": null,
            "max_width": null,
            "min_height": null,
            "min_width": null,
            "object_fit": null,
            "object_position": null,
            "order": null,
            "overflow": null,
            "overflow_x": null,
            "overflow_y": null,
            "padding": null,
            "right": null,
            "top": null,
            "visibility": null,
            "width": null
          }
        },
        "6dffcffccc804f018bc7a504be541d76": {
          "model_module": "@jupyter-widgets/controls",
          "model_name": "ProgressStyleModel",
          "model_module_version": "1.5.0",
          "state": {
            "_model_module": "@jupyter-widgets/controls",
            "_model_module_version": "1.5.0",
            "_model_name": "ProgressStyleModel",
            "_view_count": null,
            "_view_module": "@jupyter-widgets/base",
            "_view_module_version": "1.2.0",
            "_view_name": "StyleView",
            "bar_color": null,
            "description_width": ""
          }
        },
        "52a96c9079c84e03ac32f01487fc4760": {
          "model_module": "@jupyter-widgets/base",
          "model_name": "LayoutModel",
          "model_module_version": "1.2.0",
          "state": {
            "_model_module": "@jupyter-widgets/base",
            "_model_module_version": "1.2.0",
            "_model_name": "LayoutModel",
            "_view_count": null,
            "_view_module": "@jupyter-widgets/base",
            "_view_module_version": "1.2.0",
            "_view_name": "LayoutView",
            "align_content": null,
            "align_items": null,
            "align_self": null,
            "border": null,
            "bottom": null,
            "display": null,
            "flex": null,
            "flex_flow": null,
            "grid_area": null,
            "grid_auto_columns": null,
            "grid_auto_flow": null,
            "grid_auto_rows": null,
            "grid_column": null,
            "grid_gap": null,
            "grid_row": null,
            "grid_template_areas": null,
            "grid_template_columns": null,
            "grid_template_rows": null,
            "height": null,
            "justify_content": null,
            "justify_items": null,
            "left": null,
            "margin": null,
            "max_height": null,
            "max_width": null,
            "min_height": null,
            "min_width": null,
            "object_fit": null,
            "object_position": null,
            "order": null,
            "overflow": null,
            "overflow_x": null,
            "overflow_y": null,
            "padding": null,
            "right": null,
            "top": null,
            "visibility": null,
            "width": null
          }
        },
        "e60793681907451d8c58effb86c59a3a": {
          "model_module": "@jupyter-widgets/controls",
          "model_name": "DescriptionStyleModel",
          "model_module_version": "1.5.0",
          "state": {
            "_model_module": "@jupyter-widgets/controls",
            "_model_module_version": "1.5.0",
            "_model_name": "DescriptionStyleModel",
            "_view_count": null,
            "_view_module": "@jupyter-widgets/base",
            "_view_module_version": "1.2.0",
            "_view_name": "StyleView",
            "description_width": ""
          }
        },
        "69766a805d974c6dbaf5cf79cb20a467": {
          "model_module": "@jupyter-widgets/controls",
          "model_name": "HBoxModel",
          "model_module_version": "1.5.0",
          "state": {
            "_dom_classes": [],
            "_model_module": "@jupyter-widgets/controls",
            "_model_module_version": "1.5.0",
            "_model_name": "HBoxModel",
            "_view_count": null,
            "_view_module": "@jupyter-widgets/controls",
            "_view_module_version": "1.5.0",
            "_view_name": "HBoxView",
            "box_style": "",
            "children": [
              "IPY_MODEL_a59777f502b74b28b6011e7ea44c9d36",
              "IPY_MODEL_c4e6d753729a4dafbe6701513c426b29",
              "IPY_MODEL_026a4b37e1f64790bc33a797d9fc1f66"
            ],
            "layout": "IPY_MODEL_7f13efecf1c54abaa23b908efc788aef"
          }
        },
        "a59777f502b74b28b6011e7ea44c9d36": {
          "model_module": "@jupyter-widgets/controls",
          "model_name": "HTMLModel",
          "model_module_version": "1.5.0",
          "state": {
            "_dom_classes": [],
            "_model_module": "@jupyter-widgets/controls",
            "_model_module_version": "1.5.0",
            "_model_name": "HTMLModel",
            "_view_count": null,
            "_view_module": "@jupyter-widgets/controls",
            "_view_module_version": "1.5.0",
            "_view_name": "HTMLView",
            "description": "",
            "description_tooltip": null,
            "layout": "IPY_MODEL_9d373b1de13a46bdab9a57c6232b84d9",
            "placeholder": "​",
            "style": "IPY_MODEL_42a2ed5ef357424ca53779aef16d353a",
            "value": "100%"
          }
        },
        "c4e6d753729a4dafbe6701513c426b29": {
          "model_module": "@jupyter-widgets/controls",
          "model_name": "FloatProgressModel",
          "model_module_version": "1.5.0",
          "state": {
            "_dom_classes": [],
            "_model_module": "@jupyter-widgets/controls",
            "_model_module_version": "1.5.0",
            "_model_name": "FloatProgressModel",
            "_view_count": null,
            "_view_module": "@jupyter-widgets/controls",
            "_view_module_version": "1.5.0",
            "_view_name": "ProgressView",
            "bar_style": "success",
            "description": "",
            "description_tooltip": null,
            "layout": "IPY_MODEL_3e71cb1dbe5549dd922714f511247652",
            "max": 4542,
            "min": 0,
            "orientation": "horizontal",
            "style": "IPY_MODEL_e8dfecec23fe47688687032e8b13ee31",
            "value": 4542
          }
        },
        "026a4b37e1f64790bc33a797d9fc1f66": {
          "model_module": "@jupyter-widgets/controls",
          "model_name": "HTMLModel",
          "model_module_version": "1.5.0",
          "state": {
            "_dom_classes": [],
            "_model_module": "@jupyter-widgets/controls",
            "_model_module_version": "1.5.0",
            "_model_name": "HTMLModel",
            "_view_count": null,
            "_view_module": "@jupyter-widgets/controls",
            "_view_module_version": "1.5.0",
            "_view_name": "HTMLView",
            "description": "",
            "description_tooltip": null,
            "layout": "IPY_MODEL_00e29d74d3244e028ffb8ff4631047c7",
            "placeholder": "​",
            "style": "IPY_MODEL_d17eadaad89c4ca99b5172fb4af8d318",
            "value": " 4542/4542 [00:00&lt;00:00, 147707.14it/s]"
          }
        },
        "7f13efecf1c54abaa23b908efc788aef": {
          "model_module": "@jupyter-widgets/base",
          "model_name": "LayoutModel",
          "model_module_version": "1.2.0",
          "state": {
            "_model_module": "@jupyter-widgets/base",
            "_model_module_version": "1.2.0",
            "_model_name": "LayoutModel",
            "_view_count": null,
            "_view_module": "@jupyter-widgets/base",
            "_view_module_version": "1.2.0",
            "_view_name": "LayoutView",
            "align_content": null,
            "align_items": null,
            "align_self": null,
            "border": null,
            "bottom": null,
            "display": null,
            "flex": null,
            "flex_flow": null,
            "grid_area": null,
            "grid_auto_columns": null,
            "grid_auto_flow": null,
            "grid_auto_rows": null,
            "grid_column": null,
            "grid_gap": null,
            "grid_row": null,
            "grid_template_areas": null,
            "grid_template_columns": null,
            "grid_template_rows": null,
            "height": null,
            "justify_content": null,
            "justify_items": null,
            "left": null,
            "margin": null,
            "max_height": null,
            "max_width": null,
            "min_height": null,
            "min_width": null,
            "object_fit": null,
            "object_position": null,
            "order": null,
            "overflow": null,
            "overflow_x": null,
            "overflow_y": null,
            "padding": null,
            "right": null,
            "top": null,
            "visibility": null,
            "width": null
          }
        },
        "9d373b1de13a46bdab9a57c6232b84d9": {
          "model_module": "@jupyter-widgets/base",
          "model_name": "LayoutModel",
          "model_module_version": "1.2.0",
          "state": {
            "_model_module": "@jupyter-widgets/base",
            "_model_module_version": "1.2.0",
            "_model_name": "LayoutModel",
            "_view_count": null,
            "_view_module": "@jupyter-widgets/base",
            "_view_module_version": "1.2.0",
            "_view_name": "LayoutView",
            "align_content": null,
            "align_items": null,
            "align_self": null,
            "border": null,
            "bottom": null,
            "display": null,
            "flex": null,
            "flex_flow": null,
            "grid_area": null,
            "grid_auto_columns": null,
            "grid_auto_flow": null,
            "grid_auto_rows": null,
            "grid_column": null,
            "grid_gap": null,
            "grid_row": null,
            "grid_template_areas": null,
            "grid_template_columns": null,
            "grid_template_rows": null,
            "height": null,
            "justify_content": null,
            "justify_items": null,
            "left": null,
            "margin": null,
            "max_height": null,
            "max_width": null,
            "min_height": null,
            "min_width": null,
            "object_fit": null,
            "object_position": null,
            "order": null,
            "overflow": null,
            "overflow_x": null,
            "overflow_y": null,
            "padding": null,
            "right": null,
            "top": null,
            "visibility": null,
            "width": null
          }
        },
        "42a2ed5ef357424ca53779aef16d353a": {
          "model_module": "@jupyter-widgets/controls",
          "model_name": "DescriptionStyleModel",
          "model_module_version": "1.5.0",
          "state": {
            "_model_module": "@jupyter-widgets/controls",
            "_model_module_version": "1.5.0",
            "_model_name": "DescriptionStyleModel",
            "_view_count": null,
            "_view_module": "@jupyter-widgets/base",
            "_view_module_version": "1.2.0",
            "_view_name": "StyleView",
            "description_width": ""
          }
        },
        "3e71cb1dbe5549dd922714f511247652": {
          "model_module": "@jupyter-widgets/base",
          "model_name": "LayoutModel",
          "model_module_version": "1.2.0",
          "state": {
            "_model_module": "@jupyter-widgets/base",
            "_model_module_version": "1.2.0",
            "_model_name": "LayoutModel",
            "_view_count": null,
            "_view_module": "@jupyter-widgets/base",
            "_view_module_version": "1.2.0",
            "_view_name": "LayoutView",
            "align_content": null,
            "align_items": null,
            "align_self": null,
            "border": null,
            "bottom": null,
            "display": null,
            "flex": null,
            "flex_flow": null,
            "grid_area": null,
            "grid_auto_columns": null,
            "grid_auto_flow": null,
            "grid_auto_rows": null,
            "grid_column": null,
            "grid_gap": null,
            "grid_row": null,
            "grid_template_areas": null,
            "grid_template_columns": null,
            "grid_template_rows": null,
            "height": null,
            "justify_content": null,
            "justify_items": null,
            "left": null,
            "margin": null,
            "max_height": null,
            "max_width": null,
            "min_height": null,
            "min_width": null,
            "object_fit": null,
            "object_position": null,
            "order": null,
            "overflow": null,
            "overflow_x": null,
            "overflow_y": null,
            "padding": null,
            "right": null,
            "top": null,
            "visibility": null,
            "width": null
          }
        },
        "e8dfecec23fe47688687032e8b13ee31": {
          "model_module": "@jupyter-widgets/controls",
          "model_name": "ProgressStyleModel",
          "model_module_version": "1.5.0",
          "state": {
            "_model_module": "@jupyter-widgets/controls",
            "_model_module_version": "1.5.0",
            "_model_name": "ProgressStyleModel",
            "_view_count": null,
            "_view_module": "@jupyter-widgets/base",
            "_view_module_version": "1.2.0",
            "_view_name": "StyleView",
            "bar_color": null,
            "description_width": ""
          }
        },
        "00e29d74d3244e028ffb8ff4631047c7": {
          "model_module": "@jupyter-widgets/base",
          "model_name": "LayoutModel",
          "model_module_version": "1.2.0",
          "state": {
            "_model_module": "@jupyter-widgets/base",
            "_model_module_version": "1.2.0",
            "_model_name": "LayoutModel",
            "_view_count": null,
            "_view_module": "@jupyter-widgets/base",
            "_view_module_version": "1.2.0",
            "_view_name": "LayoutView",
            "align_content": null,
            "align_items": null,
            "align_self": null,
            "border": null,
            "bottom": null,
            "display": null,
            "flex": null,
            "flex_flow": null,
            "grid_area": null,
            "grid_auto_columns": null,
            "grid_auto_flow": null,
            "grid_auto_rows": null,
            "grid_column": null,
            "grid_gap": null,
            "grid_row": null,
            "grid_template_areas": null,
            "grid_template_columns": null,
            "grid_template_rows": null,
            "height": null,
            "justify_content": null,
            "justify_items": null,
            "left": null,
            "margin": null,
            "max_height": null,
            "max_width": null,
            "min_height": null,
            "min_width": null,
            "object_fit": null,
            "object_position": null,
            "order": null,
            "overflow": null,
            "overflow_x": null,
            "overflow_y": null,
            "padding": null,
            "right": null,
            "top": null,
            "visibility": null,
            "width": null
          }
        },
        "d17eadaad89c4ca99b5172fb4af8d318": {
          "model_module": "@jupyter-widgets/controls",
          "model_name": "DescriptionStyleModel",
          "model_module_version": "1.5.0",
          "state": {
            "_model_module": "@jupyter-widgets/controls",
            "_model_module_version": "1.5.0",
            "_model_name": "DescriptionStyleModel",
            "_view_count": null,
            "_view_module": "@jupyter-widgets/base",
            "_view_module_version": "1.2.0",
            "_view_name": "StyleView",
            "description_width": ""
          }
        },
        "e1b6d59ee623414b97a9d314bac5e8e1": {
          "model_module": "@jupyter-widgets/controls",
          "model_name": "HBoxModel",
          "model_module_version": "1.5.0",
          "state": {
            "_dom_classes": [],
            "_model_module": "@jupyter-widgets/controls",
            "_model_module_version": "1.5.0",
            "_model_name": "HBoxModel",
            "_view_count": null,
            "_view_module": "@jupyter-widgets/controls",
            "_view_module_version": "1.5.0",
            "_view_name": "HBoxView",
            "box_style": "",
            "children": [
              "IPY_MODEL_308af99e763846fda6c5905199574ced",
              "IPY_MODEL_36cc794d815d4823b78d27a15d498792",
              "IPY_MODEL_9b9139bee79f4846ae1a47cbaeb87633"
            ],
            "layout": "IPY_MODEL_1835177d6f15400fa75c775edfb4e48a"
          }
        },
        "308af99e763846fda6c5905199574ced": {
          "model_module": "@jupyter-widgets/controls",
          "model_name": "HTMLModel",
          "model_module_version": "1.5.0",
          "state": {
            "_dom_classes": [],
            "_model_module": "@jupyter-widgets/controls",
            "_model_module_version": "1.5.0",
            "_model_name": "HTMLModel",
            "_view_count": null,
            "_view_module": "@jupyter-widgets/controls",
            "_view_module_version": "1.5.0",
            "_view_name": "HTMLView",
            "description": "",
            "description_tooltip": null,
            "layout": "IPY_MODEL_7c66fe2101914627aa556567f2c921e8",
            "placeholder": "​",
            "style": "IPY_MODEL_b14d89e227d449089e736737aac1f950",
            "value": "100%"
          }
        },
        "36cc794d815d4823b78d27a15d498792": {
          "model_module": "@jupyter-widgets/controls",
          "model_name": "FloatProgressModel",
          "model_module_version": "1.5.0",
          "state": {
            "_dom_classes": [],
            "_model_module": "@jupyter-widgets/controls",
            "_model_module_version": "1.5.0",
            "_model_name": "FloatProgressModel",
            "_view_count": null,
            "_view_module": "@jupyter-widgets/controls",
            "_view_module_version": "1.5.0",
            "_view_name": "ProgressView",
            "bar_style": "success",
            "description": "",
            "description_tooltip": null,
            "layout": "IPY_MODEL_ae2833248b4c4502b5c133a57e09fed9",
            "max": 170498071,
            "min": 0,
            "orientation": "horizontal",
            "style": "IPY_MODEL_7b2f3e8676154f8c9ed51a9189164033",
            "value": 170498071
          }
        },
        "9b9139bee79f4846ae1a47cbaeb87633": {
          "model_module": "@jupyter-widgets/controls",
          "model_name": "HTMLModel",
          "model_module_version": "1.5.0",
          "state": {
            "_dom_classes": [],
            "_model_module": "@jupyter-widgets/controls",
            "_model_module_version": "1.5.0",
            "_model_name": "HTMLModel",
            "_view_count": null,
            "_view_module": "@jupyter-widgets/controls",
            "_view_module_version": "1.5.0",
            "_view_name": "HTMLView",
            "description": "",
            "description_tooltip": null,
            "layout": "IPY_MODEL_4bcdd93abe1b4272b88966ed01b23d70",
            "placeholder": "​",
            "style": "IPY_MODEL_60c20ae001ec48d8920410bcb7fff763",
            "value": " 170498071/170498071 [00:03&lt;00:00, 74759464.25it/s]"
          }
        },
        "1835177d6f15400fa75c775edfb4e48a": {
          "model_module": "@jupyter-widgets/base",
          "model_name": "LayoutModel",
          "model_module_version": "1.2.0",
          "state": {
            "_model_module": "@jupyter-widgets/base",
            "_model_module_version": "1.2.0",
            "_model_name": "LayoutModel",
            "_view_count": null,
            "_view_module": "@jupyter-widgets/base",
            "_view_module_version": "1.2.0",
            "_view_name": "LayoutView",
            "align_content": null,
            "align_items": null,
            "align_self": null,
            "border": null,
            "bottom": null,
            "display": null,
            "flex": null,
            "flex_flow": null,
            "grid_area": null,
            "grid_auto_columns": null,
            "grid_auto_flow": null,
            "grid_auto_rows": null,
            "grid_column": null,
            "grid_gap": null,
            "grid_row": null,
            "grid_template_areas": null,
            "grid_template_columns": null,
            "grid_template_rows": null,
            "height": null,
            "justify_content": null,
            "justify_items": null,
            "left": null,
            "margin": null,
            "max_height": null,
            "max_width": null,
            "min_height": null,
            "min_width": null,
            "object_fit": null,
            "object_position": null,
            "order": null,
            "overflow": null,
            "overflow_x": null,
            "overflow_y": null,
            "padding": null,
            "right": null,
            "top": null,
            "visibility": null,
            "width": null
          }
        },
        "7c66fe2101914627aa556567f2c921e8": {
          "model_module": "@jupyter-widgets/base",
          "model_name": "LayoutModel",
          "model_module_version": "1.2.0",
          "state": {
            "_model_module": "@jupyter-widgets/base",
            "_model_module_version": "1.2.0",
            "_model_name": "LayoutModel",
            "_view_count": null,
            "_view_module": "@jupyter-widgets/base",
            "_view_module_version": "1.2.0",
            "_view_name": "LayoutView",
            "align_content": null,
            "align_items": null,
            "align_self": null,
            "border": null,
            "bottom": null,
            "display": null,
            "flex": null,
            "flex_flow": null,
            "grid_area": null,
            "grid_auto_columns": null,
            "grid_auto_flow": null,
            "grid_auto_rows": null,
            "grid_column": null,
            "grid_gap": null,
            "grid_row": null,
            "grid_template_areas": null,
            "grid_template_columns": null,
            "grid_template_rows": null,
            "height": null,
            "justify_content": null,
            "justify_items": null,
            "left": null,
            "margin": null,
            "max_height": null,
            "max_width": null,
            "min_height": null,
            "min_width": null,
            "object_fit": null,
            "object_position": null,
            "order": null,
            "overflow": null,
            "overflow_x": null,
            "overflow_y": null,
            "padding": null,
            "right": null,
            "top": null,
            "visibility": null,
            "width": null
          }
        },
        "b14d89e227d449089e736737aac1f950": {
          "model_module": "@jupyter-widgets/controls",
          "model_name": "DescriptionStyleModel",
          "model_module_version": "1.5.0",
          "state": {
            "_model_module": "@jupyter-widgets/controls",
            "_model_module_version": "1.5.0",
            "_model_name": "DescriptionStyleModel",
            "_view_count": null,
            "_view_module": "@jupyter-widgets/base",
            "_view_module_version": "1.2.0",
            "_view_name": "StyleView",
            "description_width": ""
          }
        },
        "ae2833248b4c4502b5c133a57e09fed9": {
          "model_module": "@jupyter-widgets/base",
          "model_name": "LayoutModel",
          "model_module_version": "1.2.0",
          "state": {
            "_model_module": "@jupyter-widgets/base",
            "_model_module_version": "1.2.0",
            "_model_name": "LayoutModel",
            "_view_count": null,
            "_view_module": "@jupyter-widgets/base",
            "_view_module_version": "1.2.0",
            "_view_name": "LayoutView",
            "align_content": null,
            "align_items": null,
            "align_self": null,
            "border": null,
            "bottom": null,
            "display": null,
            "flex": null,
            "flex_flow": null,
            "grid_area": null,
            "grid_auto_columns": null,
            "grid_auto_flow": null,
            "grid_auto_rows": null,
            "grid_column": null,
            "grid_gap": null,
            "grid_row": null,
            "grid_template_areas": null,
            "grid_template_columns": null,
            "grid_template_rows": null,
            "height": null,
            "justify_content": null,
            "justify_items": null,
            "left": null,
            "margin": null,
            "max_height": null,
            "max_width": null,
            "min_height": null,
            "min_width": null,
            "object_fit": null,
            "object_position": null,
            "order": null,
            "overflow": null,
            "overflow_x": null,
            "overflow_y": null,
            "padding": null,
            "right": null,
            "top": null,
            "visibility": null,
            "width": null
          }
        },
        "7b2f3e8676154f8c9ed51a9189164033": {
          "model_module": "@jupyter-widgets/controls",
          "model_name": "ProgressStyleModel",
          "model_module_version": "1.5.0",
          "state": {
            "_model_module": "@jupyter-widgets/controls",
            "_model_module_version": "1.5.0",
            "_model_name": "ProgressStyleModel",
            "_view_count": null,
            "_view_module": "@jupyter-widgets/base",
            "_view_module_version": "1.2.0",
            "_view_name": "StyleView",
            "bar_color": null,
            "description_width": ""
          }
        },
        "4bcdd93abe1b4272b88966ed01b23d70": {
          "model_module": "@jupyter-widgets/base",
          "model_name": "LayoutModel",
          "model_module_version": "1.2.0",
          "state": {
            "_model_module": "@jupyter-widgets/base",
            "_model_module_version": "1.2.0",
            "_model_name": "LayoutModel",
            "_view_count": null,
            "_view_module": "@jupyter-widgets/base",
            "_view_module_version": "1.2.0",
            "_view_name": "LayoutView",
            "align_content": null,
            "align_items": null,
            "align_self": null,
            "border": null,
            "bottom": null,
            "display": null,
            "flex": null,
            "flex_flow": null,
            "grid_area": null,
            "grid_auto_columns": null,
            "grid_auto_flow": null,
            "grid_auto_rows": null,
            "grid_column": null,
            "grid_gap": null,
            "grid_row": null,
            "grid_template_areas": null,
            "grid_template_columns": null,
            "grid_template_rows": null,
            "height": null,
            "justify_content": null,
            "justify_items": null,
            "left": null,
            "margin": null,
            "max_height": null,
            "max_width": null,
            "min_height": null,
            "min_width": null,
            "object_fit": null,
            "object_position": null,
            "order": null,
            "overflow": null,
            "overflow_x": null,
            "overflow_y": null,
            "padding": null,
            "right": null,
            "top": null,
            "visibility": null,
            "width": null
          }
        },
        "60c20ae001ec48d8920410bcb7fff763": {
          "model_module": "@jupyter-widgets/controls",
          "model_name": "DescriptionStyleModel",
          "model_module_version": "1.5.0",
          "state": {
            "_model_module": "@jupyter-widgets/controls",
            "_model_module_version": "1.5.0",
            "_model_name": "DescriptionStyleModel",
            "_view_count": null,
            "_view_module": "@jupyter-widgets/base",
            "_view_module_version": "1.2.0",
            "_view_name": "StyleView",
            "description_width": ""
          }
        }
      }
    }
  },
  "cells": [
    {
      "cell_type": "markdown",
      "metadata": {
        "id": "view-in-github",
        "colab_type": "text"
      },
      "source": [
        "<a href=\"https://colab.research.google.com/github/chogerlate/Learning_Stuff/blob/main/pytorch_learn.ipynb\" target=\"_parent\"><img src=\"https://colab.research.google.com/assets/colab-badge.svg\" alt=\"Open In Colab\"/></a>"
      ]
    },
    {
      "cell_type": "code",
      "execution_count": null,
      "metadata": {
        "colab": {
          "base_uri": "https://localhost:8080/"
        },
        "id": "iD6N5zWFiHx7",
        "outputId": "526ef8bf-126b-4c42-bcc5-206078ea67e3"
      },
      "outputs": [
        {
          "output_type": "stream",
          "name": "stdout",
          "text": [
            "NVIDIA-SMI has failed because it couldn't communicate with the NVIDIA driver. Make sure that the latest NVIDIA driver is installed and running.\n",
            "\n"
          ]
        }
      ],
      "source": [
        "!nvidia-smi"
      ]
    },
    {
      "cell_type": "markdown",
      "source": [
        "#Import "
      ],
      "metadata": {
        "id": "DPLht8F_ozM_"
      }
    },
    {
      "cell_type": "code",
      "source": [
        " import torch\n",
        " import torch.nn as nn\n",
        " import torchvision \n",
        " from torch.utils.data import Dataset, DataLoader\n",
        " import torchvision.transforms as transforms\n",
        " import math\n",
        " import torch.nn.functional as F"
      ],
      "metadata": {
        "id": "8s_0CRBc2oBu"
      },
      "execution_count": null,
      "outputs": []
    },
    {
      "cell_type": "code",
      "source": [
        "import numpy as np \n",
        "import matplotlib.pyplot as plt\n",
        "import pandas as pd\n",
        "from sklearn import datasets\n",
        "from sklearn.preprocessing import StandardScaler\n",
        "from sklearn.model_selection import train_test_split"
      ],
      "metadata": {
        "id": "nakJh8bODqPS"
      },
      "execution_count": null,
      "outputs": []
    },
    {
      "cell_type": "code",
      "source": [
        "device = torch.device('cuda' if torch.cuda.is_available() else 'cpu')"
      ],
      "metadata": {
        "id": "ZFZoQog8oyV4"
      },
      "execution_count": null,
      "outputs": []
    },
    {
      "cell_type": "markdown",
      "source": [
        "# Basic tensor "
      ],
      "metadata": {
        "id": "z-xnnxu2YGlI"
      }
    },
    {
      "cell_type": "markdown",
      "source": [
        "## Creating tensor"
      ],
      "metadata": {
        "id": "WJxw8n2hDc-i"
      }
    },
    {
      "cell_type": "code",
      "source": [
        "x = torch.ones(3) # 1D tensor\n",
        "print(x)\n",
        "\n",
        "y = torch.rand(2,2, dtype=torch.float32)\n",
        "print(y)\n",
        "\n",
        "z = torch.tensor([1,2,3],dtype = torch.float16)\n",
        "print(z.add(x))\n",
        "print(z , z.dtype)\n",
        "\n",
        "#every method that ended with '_' with be apply inplace\n",
        "z.add_(torch.tensor([3.5,2.4,2.3],dtype=torch.float32))\n",
        "print(z, z.dtype)\n"
      ],
      "metadata": {
        "colab": {
          "base_uri": "https://localhost:8080/"
        },
        "id": "0IsCJZBm3Xjf",
        "outputId": "4e7c4228-2110-4218-d165-befc95909fe8"
      },
      "execution_count": null,
      "outputs": [
        {
          "output_type": "stream",
          "name": "stdout",
          "text": [
            "tensor([1., 1., 1.])\n",
            "tensor([[0.1215, 0.9829],\n",
            "        [0.0917, 0.4380]])\n",
            "tensor([2., 3., 4.])\n",
            "tensor([1., 2., 3.], dtype=torch.float16) torch.float16\n",
            "tensor([4.5000, 4.3984, 5.3008], dtype=torch.float16) torch.float16\n"
          ]
        }
      ]
    },
    {
      "cell_type": "markdown",
      "source": [
        "## Accessing tensor"
      ],
      "metadata": {
        "id": "hAizxUAmDlOg"
      }
    },
    {
      "cell_type": "code",
      "source": [
        "#1D tensor \n",
        "print(x[:])\n",
        "\n",
        "#2D  tensor\n",
        "# print(y[0][1])\n",
        "print(y[0,1])\n"
      ],
      "metadata": {
        "colab": {
          "base_uri": "https://localhost:8080/"
        },
        "id": "5-eNvN74AY7_",
        "outputId": "0737d2a6-e632-4633-f60d-33d690d48b69"
      },
      "execution_count": null,
      "outputs": [
        {
          "output_type": "stream",
          "name": "stdout",
          "text": [
            "tensor([1., 1., 1.])\n",
            "tensor(0.9829)\n"
          ]
        }
      ]
    },
    {
      "cell_type": "markdown",
      "source": [
        "## Resizing tensor"
      ],
      "metadata": {
        "id": "xI7HpbEKDnz7"
      }
    },
    {
      "cell_type": "code",
      "source": [
        "to_reshape = torch.rand(4,4)\n",
        "print(to_reshape)\n",
        "\n",
        "reshaped = to_reshape.view(-1,8) # -1 mean it automatical design for us\n",
        "print(reshaped)"
      ],
      "metadata": {
        "colab": {
          "base_uri": "https://localhost:8080/"
        },
        "id": "xwK22k2lCi2H",
        "outputId": "09952796-b40b-46bd-f4ab-ad90457835e7"
      },
      "execution_count": null,
      "outputs": [
        {
          "output_type": "stream",
          "name": "stdout",
          "text": [
            "tensor([[0.6297, 0.3406, 0.6976, 0.4333],\n",
            "        [0.8543, 0.8901, 0.6913, 0.5782],\n",
            "        [0.0665, 0.2187, 0.4074, 0.1174],\n",
            "        [0.7127, 0.5930, 0.9205, 0.2288]])\n",
            "tensor([[0.6297, 0.3406, 0.6976, 0.4333, 0.8543, 0.8901, 0.6913, 0.5782],\n",
            "        [0.0665, 0.2187, 0.4074, 0.1174, 0.7127, 0.5930, 0.9205, 0.2288]])\n"
          ]
        }
      ]
    },
    {
      "cell_type": "markdown",
      "source": [
        "## Tensor to numpy array"
      ],
      "metadata": {
        "id": "yArR9AF6EaOU"
      }
    },
    {
      "cell_type": "code",
      "source": [
        "# tensor -> numpy\n",
        "a = torch.ones(5)\n",
        "print(a[2])\n",
        "b = a.numpy()\n",
        "print(b)\n",
        "\n",
        "# numpy -> tensor \n",
        "a = np.zeros((4,4))\n",
        "print(a)\n",
        "b = torch.from_numpy(a)\n",
        "print(b)"
      ],
      "metadata": {
        "colab": {
          "base_uri": "https://localhost:8080/"
        },
        "id": "DU-NDHZEEDH0",
        "outputId": "88d72e58-a982-4807-8531-fccf397de8a6"
      },
      "execution_count": null,
      "outputs": [
        {
          "output_type": "stream",
          "name": "stdout",
          "text": [
            "tensor(1.)\n",
            "[1. 1. 1. 1. 1.]\n",
            "[[0. 0. 0. 0.]\n",
            " [0. 0. 0. 0.]\n",
            " [0. 0. 0. 0.]\n",
            " [0. 0. 0. 0.]]\n",
            "tensor([[0., 0., 0., 0.],\n",
            "        [0., 0., 0., 0.],\n",
            "        [0., 0., 0., 0.],\n",
            "        [0., 0., 0., 0.]], dtype=torch.float64)\n"
          ]
        }
      ]
    },
    {
      "cell_type": "code",
      "source": [
        "if torch.cuda.is_available():\n",
        "  device = torch.device(\"cuda\")\n",
        "  #creat variable and store it in gpu\n",
        "  x = torch.ones(5,device=device)\n",
        "\n",
        "  #creat variable and move it to gpu\n",
        "  y = torch.ones(5)\n",
        "  y = y.to(device)\n",
        "\n",
        "  z = x+y\n",
        "  \n",
        "  z = z.to(\"cpu\")"
      ],
      "metadata": {
        "id": "RuoibDMEEi32"
      },
      "execution_count": null,
      "outputs": []
    },
    {
      "cell_type": "code",
      "source": [
        "x = torch.randn(3,requires_grad=True)\n",
        "print(x)\n",
        "\n",
        "y = x*2\n",
        "print(y)\n",
        "\n",
        "z = y*y*2\n",
        "print(z)\n",
        "\n",
        "# z = z.mean()\n",
        "# print(z)\n",
        "\n",
        "#vector jacobian product\n",
        "v = torch.tensor([0.1,1.0,0.001],dtype = torch.float32)\n",
        "z.backward(v)\n",
        "print(x.grad)\n",
        "\n",
        "# Stop pytorch from tacking gradient\n",
        "# x.requires_grad_(False)\n",
        "# x.detach()\n",
        "# with torch.no_grad():\n",
        "# weight.grad.zero_() empty our gradient\n"
      ],
      "metadata": {
        "colab": {
          "base_uri": "https://localhost:8080/"
        },
        "id": "IudHYyqhGPJV",
        "outputId": "8f242c57-8dd9-4927-a65f-8f25fb4bb243"
      },
      "execution_count": null,
      "outputs": [
        {
          "output_type": "stream",
          "name": "stdout",
          "text": [
            "tensor([-1.2430, -0.5346, -0.3279], requires_grad=True)\n",
            "tensor([-2.4859, -1.0692, -0.6558], grad_fn=<MulBackward0>)\n",
            "tensor([12.3594,  2.2863,  0.8600], grad_fn=<MulBackward0>)\n",
            "tensor([-1.9887e+00, -8.5534e+00, -5.2461e-03])\n"
          ]
        }
      ]
    },
    {
      "cell_type": "markdown",
      "source": [
        "## Backpropagation"
      ],
      "metadata": {
        "id": "cL-plpcaCdxG"
      }
    },
    {
      "cell_type": "code",
      "source": [
        "x = torch.tensor(1.0)\n",
        "y = torch.tensor(2.0)\n",
        "\n",
        "#initialize weight\n",
        "w = torch.tensor(1.0, requires_grad = True)\n",
        "\n",
        "# forward pass and compute the loss \n",
        "y_hat = w*x\n",
        "loss = (y_hat - y)**2\n",
        "\n",
        "print(loss)\n",
        "\n",
        "# backward pass\n",
        "loss.backward()\n",
        "print(w.grad)"
      ],
      "metadata": {
        "colab": {
          "base_uri": "https://localhost:8080/"
        },
        "id": "zQIauAtu7JQj",
        "outputId": "2e87b923-dbba-452a-abc4-1ab3e7f21a84"
      },
      "execution_count": null,
      "outputs": [
        {
          "output_type": "stream",
          "name": "stdout",
          "text": [
            "tensor(1., grad_fn=<PowBackward0>)\n",
            "tensor(-2.)\n"
          ]
        }
      ]
    },
    {
      "cell_type": "markdown",
      "source": [
        "# Modeling"
      ],
      "metadata": {
        "id": "WUFFJXSLYO4S"
      }
    },
    {
      "cell_type": "markdown",
      "source": [
        "## Linear regression model 1\n",
        "\n",
        "* prediction: Manually \n",
        "* Gradients Computation: Manually\n",
        "* Loss Computation: Manually\n",
        "* Parameter updates: Manually\n"
      ],
      "metadata": {
        "id": "VbajaKUCPJax"
      }
    },
    {
      "cell_type": "code",
      "source": [
        "X = np.array([1,2,3,4], dtype = np.float32) # sample feature\n",
        "Y = np.array([2,4,6,8], dtype = np.float32) # sample label\n",
        "\n",
        "w =  0.0\n",
        "\n",
        "# model prediction\n",
        "def forward(x):\n",
        "  return w*x\n",
        "\n",
        "# loss\n",
        "def loss(y,y_predicted):\n",
        "  return ((y_predicted-y)**2).mean()\n",
        "\n",
        "# gradient\n",
        "# MSE = 1/N * (w*x -y)**2 -> aka loss FN\n",
        "# dObjectiveFN/dw = 1/N 2x (w*x - y) -> aka dLoss/dW\n",
        "def gradient(x,y, y_predicted):\n",
        "  return np.dot(2*x, y_predicted-y).mean()\n",
        "\n",
        "print(f'Prediction before trianing: f(5) = {forward(5):.3f}')\n",
        "\n",
        "# Training\n",
        "learning_rate = 0.01\n",
        "n_iters = 20\n",
        "\n",
        "for epoch in range(n_iters):\n",
        "  # prediction = forward pass\n",
        "  y_pred = forward(X)\n",
        "\n",
        "  #loss \n",
        "  l = loss(Y,y_pred)\n",
        "\n",
        "  # gradients\n",
        "  dw = gradient(X,Y,y_pred)\n",
        "\n",
        "  #update weights\n",
        "  w -= learning_rate * dw \n",
        "\n",
        "  if epoch % 1 == 0:\n",
        "    print(f'epoch {epoch+1}: w = {w:.3f}, loss = {l:.8f}')\n",
        "  \n",
        "print(f'Prediction afrer training: f(5) = {forward(5):.3f}')\n"
      ],
      "metadata": {
        "colab": {
          "base_uri": "https://localhost:8080/"
        },
        "id": "1CAWtd6WMx9F",
        "outputId": "f382f9e5-8c07-4ac6-8e2e-3a8165d1eb20"
      },
      "execution_count": null,
      "outputs": [
        {
          "output_type": "stream",
          "name": "stdout",
          "text": [
            "Prediction before trianing: f(5) = 0.000\n",
            "epoch 1: w = 1.200, loss = 30.00000000\n",
            "epoch 2: w = 1.680, loss = 4.79999924\n",
            "epoch 3: w = 1.872, loss = 0.76800019\n",
            "epoch 4: w = 1.949, loss = 0.12288000\n",
            "epoch 5: w = 1.980, loss = 0.01966083\n",
            "epoch 6: w = 1.992, loss = 0.00314574\n",
            "epoch 7: w = 1.997, loss = 0.00050331\n",
            "epoch 8: w = 1.999, loss = 0.00008053\n",
            "epoch 9: w = 1.999, loss = 0.00001288\n",
            "epoch 10: w = 2.000, loss = 0.00000206\n",
            "epoch 11: w = 2.000, loss = 0.00000033\n",
            "epoch 12: w = 2.000, loss = 0.00000005\n",
            "epoch 13: w = 2.000, loss = 0.00000001\n",
            "epoch 14: w = 2.000, loss = 0.00000000\n",
            "epoch 15: w = 2.000, loss = 0.00000000\n",
            "epoch 16: w = 2.000, loss = 0.00000000\n",
            "epoch 17: w = 2.000, loss = 0.00000000\n",
            "epoch 18: w = 2.000, loss = 0.00000000\n",
            "epoch 19: w = 2.000, loss = 0.00000000\n",
            "epoch 20: w = 2.000, loss = 0.00000000\n",
            "Prediction afrer training: f(5) = 10.000\n"
          ]
        }
      ]
    },
    {
      "cell_type": "markdown",
      "source": [
        "\n",
        "## Model 2\n",
        "Backward/back propagation are not exact as numerical gradient computation \n",
        "\n",
        "* prediction: Manually \n",
        "* Gradients Computation: Autograd\n",
        "* Loss Computation: Manually\n",
        "* Parameter updates: Manually"
      ],
      "metadata": {
        "id": "5MZKbB3jWYs-"
      }
    },
    {
      "cell_type": "code",
      "source": [
        "X = torch.tensor([1,2,3,4], dtype = torch.float32) # sample feature\n",
        "Y = torch.tensor([2,4,6,8], dtype = torch.float32) # sample label\n",
        "\n",
        "w =  torch.tensor(0.0, dtype=torch.float32 , requires_grad = True)\n",
        "\n",
        "# model prediction\n",
        "def forward(x):\n",
        "  return w*x\n",
        "\n",
        "# loss\n",
        "def loss(y,y_predicted):\n",
        "  return ((y_predicted-y)**2).mean()\n",
        "\n",
        "\n",
        "\n",
        "print(f'Prediction before trianing: f(5) = {forward(5):.3f}')\n",
        "\n",
        "# Training\n",
        "learning_rate = 0.01\n",
        "n_iters = 100\n",
        "\n",
        "for epoch in range(n_iters):\n",
        "  # prediction = forward pass\n",
        "  y_pred = forward(X)\n",
        "\n",
        "  #loss \n",
        "  l = loss(Y,y_pred)\n",
        "\n",
        "  # gradients = backward pass\n",
        "  l.backward() # dl/dw\n",
        "\n",
        "  #update weights\n",
        "  with torch.no_grad():\n",
        "    w -= learning_rate * w.grad  \n",
        "   \n",
        "  # zeor gradients\n",
        "  w.grad.zero_()\n",
        " \n",
        "  if epoch % 10 == 0:\n",
        "    print(f'epoch {epoch+1}: w = {w:.3f}, loss = {l:.8f}')\n",
        "  \n",
        "print(f'Prediction afrer training: f(5) = {forward(5):.3f}')\n"
      ],
      "metadata": {
        "colab": {
          "base_uri": "https://localhost:8080/"
        },
        "id": "VMAJ2Bv9T5iU",
        "outputId": "3d5dc821-dae7-49c4-bd4e-ec58787de3a2"
      },
      "execution_count": null,
      "outputs": [
        {
          "output_type": "stream",
          "name": "stdout",
          "text": [
            "Prediction before trianing: f(5) = 0.000\n",
            "epoch 1: w = 0.300, loss = 30.00000000\n",
            "epoch 11: w = 1.665, loss = 1.16278565\n",
            "epoch 21: w = 1.934, loss = 0.04506890\n",
            "epoch 31: w = 1.987, loss = 0.00174685\n",
            "epoch 41: w = 1.997, loss = 0.00006770\n",
            "epoch 51: w = 1.999, loss = 0.00000262\n",
            "epoch 61: w = 2.000, loss = 0.00000010\n",
            "epoch 71: w = 2.000, loss = 0.00000000\n",
            "epoch 81: w = 2.000, loss = 0.00000000\n",
            "epoch 91: w = 2.000, loss = 0.00000000\n",
            "Prediction afrer training: f(5) = 10.000\n"
          ]
        }
      ]
    },
    {
      "cell_type": "markdown",
      "source": [
        "## Model 3 4\n",
        "* prediction: PyTorch Model \n",
        "* Gradients Computation: Autograd\n",
        "* Loss Computation: Pytorch Loss\n",
        "* Parameter updates: PyTorch Optimizer\n",
        "\n",
        "\n"
      ],
      "metadata": {
        "id": "G_V0JR6mXGyq"
      }
    },
    {
      "cell_type": "code",
      "source": [
        "# 1) Design model (input, output size, forward pass)\n",
        "# 2) Construct loss and optimizer\n",
        "# 3) Training Loop\n",
        "#   - forward pass: compute prediction\n",
        "#   - backward pass: gradients\n",
        "#   - update weights \n",
        "\n",
        "X = torch.tensor([[1],[2],[3],[4]], dtype = torch.float32) # sample feature\n",
        "Y = torch.tensor([[2],[4],[6],[8]], dtype = torch.float32) # sample label\n",
        "\n",
        "X_test = torch.tensor([5], dtype=torch.float32)\n",
        "n_samples, n_features = X.shape\n",
        "print(f'n_samples: {n_samples} , n_features: {n_features}')\n",
        "\n",
        "# w =  torch.tensor(0.0, dtype=torch.float32 , requires_grad = True)# init weight\n",
        "\n",
        "# model prediction\n",
        "input_size = n_features\n",
        "output_size = 1\n",
        "\n",
        "# model = nn.Linear(input_size, output_size)\n",
        "\n",
        "class LinearRegression(nn.Module):\n",
        "\n",
        "  def __init__(self,input_dim,output_dim):\n",
        "    super(LinearRegression, self).__init__()\n",
        "    #define layers\n",
        "    self.lin = nn.Linear(input_dim,output_dim)\n",
        "\n",
        "  def forward(self, x):\n",
        "    return self.lin(x)\n",
        "\n",
        "model = LinearRegression(input_size,output_size)\n",
        "\n",
        "print(f'Prediction before trianing: f(5) = {model(X_test).item():.3f}')\n",
        "# Training\n",
        "learning_rate = 0.01\n",
        "n_iters = 100\n",
        "\n",
        "loss = nn.MSELoss()\n",
        "optimizer = torch.optim.SGD(model.parameters(), lr=learning_rate)\n",
        "\n",
        "for epoch in range(n_iters):\n",
        "  # prediction = forward pass\n",
        "  y_pred = model(X)\n",
        "\n",
        "  #loss \n",
        "  l = loss(Y,y_pred)\n",
        "\n",
        "  # gradients = backward pass\n",
        "  l.backward() # dl/dw\n",
        "\n",
        "  #update weights\n",
        "  optimizer.step()\n",
        "   \n",
        "  # zeor gradients\n",
        "  optimizer.zero_grad()\n",
        "\n",
        "  if epoch % 10 == 0:\n",
        "    [w,b] = model.parameters()\n",
        "    print(\"W: \",w,\" b: \",b)\n",
        "    print(f'epoch {epoch+1}: w = {w[0][0].item():.3f}, loss = {l:.8f}')\n",
        "  \n",
        "print(f'Prediction afrer training: f(5) = {model(X_test).item():.3f}')"
      ],
      "metadata": {
        "colab": {
          "base_uri": "https://localhost:8080/"
        },
        "id": "XU_F9hXpWCYx",
        "outputId": "8ab63761-d177-466e-da98-28214e1430ed"
      },
      "execution_count": null,
      "outputs": [
        {
          "output_type": "stream",
          "name": "stdout",
          "text": [
            "n_samples: 4 , n_features: 1\n",
            "Prediction before trianing: f(5) = 1.129\n",
            "W:  Parameter containing:\n",
            "tensor([[0.6081]], requires_grad=True)  b:  Parameter containing:\n",
            "tensor([-0.4343], requires_grad=True)\n",
            "epoch 1: w = 0.608, loss = 25.56732368\n",
            "W:  Parameter containing:\n",
            "tensor([[1.7665]], requires_grad=True)  b:  Parameter containing:\n",
            "tensor([-0.0415], requires_grad=True)\n",
            "epoch 11: w = 1.766, loss = 0.66167700\n",
            "W:  Parameter containing:\n",
            "tensor([[1.9531]], requires_grad=True)  b:  Parameter containing:\n",
            "tensor([0.0208], requires_grad=True)\n",
            "epoch 21: w = 1.953, loss = 0.01729689\n",
            "W:  Parameter containing:\n",
            "tensor([[1.9834]], requires_grad=True)  b:  Parameter containing:\n",
            "tensor([0.0301], requires_grad=True)\n",
            "epoch 31: w = 1.983, loss = 0.00061491\n",
            "W:  Parameter containing:\n",
            "tensor([[1.9885]], requires_grad=True)  b:  Parameter containing:\n",
            "tensor([0.0307], requires_grad=True)\n",
            "epoch 41: w = 1.989, loss = 0.00017356\n",
            "W:  Parameter containing:\n",
            "tensor([[1.9896]], requires_grad=True)  b:  Parameter containing:\n",
            "tensor([0.0301], requires_grad=True)\n",
            "epoch 51: w = 1.990, loss = 0.00015297\n",
            "W:  Parameter containing:\n",
            "tensor([[1.9900]], requires_grad=True)  b:  Parameter containing:\n",
            "tensor([0.0292], requires_grad=True)\n",
            "epoch 61: w = 1.990, loss = 0.00014379\n",
            "W:  Parameter containing:\n",
            "tensor([[1.9903]], requires_grad=True)  b:  Parameter containing:\n",
            "tensor([0.0284], requires_grad=True)\n",
            "epoch 71: w = 1.990, loss = 0.00013542\n",
            "W:  Parameter containing:\n",
            "tensor([[1.9906]], requires_grad=True)  b:  Parameter containing:\n",
            "tensor([0.0276], requires_grad=True)\n",
            "epoch 81: w = 1.991, loss = 0.00012753\n",
            "W:  Parameter containing:\n",
            "tensor([[1.9909]], requires_grad=True)  b:  Parameter containing:\n",
            "tensor([0.0267], requires_grad=True)\n",
            "epoch 91: w = 1.991, loss = 0.00012011\n",
            "Prediction afrer training: f(5) = 9.982\n"
          ]
        }
      ]
    },
    {
      "cell_type": "markdown",
      "source": [
        "## Linear Regression Model BY Pytorch"
      ],
      "metadata": {
        "id": "Xu2FCkAXohM5"
      }
    },
    {
      "cell_type": "code",
      "source": [
        "X_numpy, y_numpy = datasets.make_regression(n_samples = 100, n_features = 1 , noise = 20 , random_state=  1)\n",
        "\n",
        "X = torch.from_numpy(X_numpy.astype(np.float32))\n",
        "y = torch.from_numpy(y_numpy.astype(np.float32))\n",
        "y = y.view(y.shape[0],1)\n",
        "\n",
        "n_samples , n_features = X.shape\n",
        "\n",
        "# 1) model\n",
        "input_size = n_features\n",
        "output_size = 1\n",
        "model = nn.Linear(input_size, output_size)\n",
        "\n",
        "# 2) loss and optimizer\n",
        "learning_rate = 0.01\n",
        "criterion = nn.MSELoss()\n",
        "optimizer = torch.optim.SGD(model.parameters(), lr = learning_rate)\n",
        "\n",
        "\n",
        "# 3) training loop\n",
        "num_epochs = 100\n",
        "for epoch in range(num_epochs):\n",
        "  y_predicted = model(X)\n",
        "  loss = criterion(y_predicted, y)\n",
        "\n",
        "  loss.backward()\n",
        "\n",
        "  optimizer.step()\n",
        "\n",
        "  optimizer.zero_grad()\n",
        "\n",
        "  if (epoch+1) % 10 == 0 :\n",
        "    print(f'epoch: {epoch+1}, loss = {loss.item():.4f}')\n",
        "\n",
        "\n",
        "# plot \n",
        "# print(X , model(X))\n",
        "predicted = model(X).detach().numpy() # detech grad out of our tensor\n",
        "plt.plot(X_numpy, y_numpy, 'ro')\n",
        "plt.plot(X_numpy, predicted, 'b')\n",
        "plt.show()\n",
        "\n"
      ],
      "metadata": {
        "colab": {
          "base_uri": "https://localhost:8080/",
          "height": 439
        },
        "id": "XJn-M5CRYzMu",
        "outputId": "a9e50013-4b64-4341-a3e3-c86d69bbf333"
      },
      "execution_count": null,
      "outputs": [
        {
          "output_type": "stream",
          "name": "stdout",
          "text": [
            "epoch: 10, loss = 4387.5298\n",
            "epoch: 20, loss = 3273.2734\n",
            "epoch: 30, loss = 2467.1128\n",
            "epoch: 40, loss = 1883.2329\n",
            "epoch: 50, loss = 1459.9236\n",
            "epoch: 60, loss = 1152.7457\n",
            "epoch: 70, loss = 929.6501\n",
            "epoch: 80, loss = 767.4950\n",
            "epoch: 90, loss = 649.5490\n",
            "epoch: 100, loss = 563.7023\n"
          ]
        },
        {
          "output_type": "display_data",
          "data": {
            "text/plain": [
              "<Figure size 432x288 with 1 Axes>"
            ],
            "image/png": "[encoded data removed]"
          },
          "metadata": {
            "needs_background": "light"
          }
        }
      ]
    },
    {
      "cell_type": "markdown",
      "source": [
        "Logistic regression Model "
      ],
      "metadata": {
        "id": "h0ZtDCbHomlW"
      }
    },
    {
      "cell_type": "code",
      "source": [
        "bc = datasets.load_breast_cancer()\n",
        "\n",
        "X, y = bc.data, bc.target\n",
        "\n",
        "n_samples , n_features = X.shape\n",
        "print(n_samples, n_features)\n",
        "\n",
        "X_train, X_test,y_train, y_test = train_test_split(X,y, test_size = 0.2 , random_state =1234)\n",
        "\n",
        "#scale\n",
        "sc = StandardScaler()\n",
        "X_train = sc.fit_transform(X_train)\n",
        "X_test = sc.transform(X_test)\n",
        "\n",
        "X_train = torch.from_numpy(X_train.astype(np.float32))\n",
        "X_test = torch.from_numpy(X_test.astype(np.float32))\n",
        "y_train = torch.from_numpy(y_train.astype(np.float32))\n",
        "y_test = torch.from_numpy(y_test.astype(np.float32))\n",
        "\n",
        "y_train = y_train.view(y_train.shape[0],1)\n",
        "y_test = y_test.view(y_test.shape[0],1)\n",
        "\n",
        "# 1) model\n",
        "class LogisticRegression(nn.Module):\n",
        "  def __init__(self,n_input_features):\n",
        "    super(LogisticRegression,self).__init__()\n",
        "    self.linear = nn.Linear(n_input_features,1)\n",
        "\n",
        "  def forward(self,x):\n",
        "    y_predicted = torch.sigmoid(self.linear(x))\n",
        "    return y_predicted\n",
        "\n",
        "model = LogisticRegression(n_features)\n",
        "\n",
        "# 2) loss and optimizer\n",
        "learning_rate = 0.01\n",
        "criterion = nn.BCELoss() # BinaryCrossEntropy\n",
        "optimizer = torch.optim.SGD(model.parameters(), lr = learning_rate)\n",
        "\n",
        "\n",
        "# 3) training loop\n",
        "num_epochs = 100\n",
        "for epoch in range(num_epochs):\n",
        "  y_predicted = model(X_train)\n",
        "  loss = criterion(y_predicted, y_train)\n",
        "\n",
        "  loss.backward()\n",
        "\n",
        "  optimizer.step()\n",
        "\n",
        "  optimizer.zero_grad()\n",
        "\n",
        "  if (epoch+1) % 10 == 0 :\n",
        "    print(f'epoch: {epoch+1}, loss = {loss.item():.4f}')\n",
        "\n",
        "\n",
        "with torch.no_grad():\n",
        "  y_predicted = model(X_test)\n",
        "  y_predicted_cls = y_predicted.round()\n",
        "  acc = y_predicted_cls.eq(y_test).sum() / float(y_test.shape[0])\n",
        "  print(f'accurary = {acc:.4f}')\n",
        "\n"
      ],
      "metadata": {
        "colab": {
          "base_uri": "https://localhost:8080/"
        },
        "id": "BdfpA9osmLPI",
        "outputId": "b0e9e1a6-9ca3-4a9b-a488-ce6a8702cdf7"
      },
      "execution_count": null,
      "outputs": [
        {
          "output_type": "stream",
          "name": "stdout",
          "text": [
            "569 30\n",
            "epoch: 10, loss = 0.6881\n",
            "epoch: 20, loss = 0.5232\n",
            "epoch: 30, loss = 0.4298\n",
            "epoch: 40, loss = 0.3709\n",
            "epoch: 50, loss = 0.3305\n",
            "epoch: 60, loss = 0.3010\n",
            "epoch: 70, loss = 0.2784\n",
            "epoch: 80, loss = 0.2604\n",
            "epoch: 90, loss = 0.2457\n",
            "epoch: 100, loss = 0.2335\n",
            "accurary = 0.9211\n"
          ]
        }
      ]
    },
    {
      "cell_type": "markdown",
      "source": [
        "## Dataset and DataLoader"
      ],
      "metadata": {
        "id": "JS0d2zFgtE7x"
      }
    },
    {
      "cell_type": "code",
      "source": [
        "torch.tensor([5])"
      ],
      "metadata": {
        "colab": {
          "base_uri": "https://localhost:8080/"
        },
        "id": "dXBdGBrHrQpx",
        "outputId": "b07e68a2-c2cc-4281-8a73-00cf8d5d67cb"
      },
      "execution_count": null,
      "outputs": [
        {
          "output_type": "execute_result",
          "data": {
            "text/plain": [
              "tensor([5])"
            ]
          },
          "metadata": {},
          "execution_count": 18
        }
      ]
    },
    {
      "cell_type": "code",
      "source": [
        "!wget https://raw.githubusercontent.com/patrickloeber/pytorchTutorial/master/data/wine/wine.csv /content/wine"
      ],
      "metadata": {
        "colab": {
          "base_uri": "https://localhost:8080/"
        },
        "id": "t1bRtRwYYdHG",
        "outputId": "9446a83f-9c59-490b-8864-d738d8e6bfa7"
      },
      "execution_count": null,
      "outputs": [
        {
          "output_type": "stream",
          "name": "stdout",
          "text": [
            "--2023-01-15 12:26:28--  https://raw.githubusercontent.com/patrickloeber/pytorchTutorial/master/data/wine/wine.csv\n",
            "Resolving raw.githubusercontent.com (raw.githubusercontent.com)... 185.199.110.133, 185.199.109.133, 185.199.111.133, ...\n",
            "Connecting to raw.githubusercontent.com (raw.githubusercontent.com)|185.199.110.133|:443... connected.\n",
            "HTTP request sent, awaiting response... 200 OK\n",
            "Length: 10889 (11K) [text/plain]\n",
            "Saving to: ‘wine.csv’\n",
            "\n",
            "\rwine.csv              0%[                    ]       0  --.-KB/s               \rwine.csv            100%[===================>]  10.63K  --.-KB/s    in 0s      \n",
            "\n",
            "2023-01-15 12:26:28 (106 MB/s) - ‘wine.csv’ saved [10889/10889]\n",
            "\n",
            "/content/wine: Scheme missing.\n",
            "FINISHED --2023-01-15 12:26:28--\n",
            "Total wall clock time: 0.04s\n",
            "Downloaded: 1 files, 11K in 0s (106 MB/s)\n"
          ]
        }
      ]
    },
    {
      "cell_type": "code",
      "source": [
        "class WineDataset(Dataset):\n",
        "  \n",
        "  def __init__(self):\n",
        "    xy = np.loadtxt('/content/wine.csv', delimiter = ',' , dtype = np.float32 , skiprows = 1)\n",
        "    self.x = xy[:,1:] # read feature columns\n",
        "    self.y = xy[:,[0]] # n_sample, 1 read target column\n",
        "    self.n_samples = xy.shape[0]\n",
        "\n",
        "  def __getitem__(self, index):  # redefine access method\n",
        "    return self.x[index], self.y[index]\n",
        "\n",
        "  def __len__(self): # redefine len method \n",
        "    return self.n_samples\n",
        "\n",
        "dataset = WineDataset()\n",
        "first_data = dataset[0]\n",
        "print(first_data)\n",
        "features , labels = first_data\n",
        "print(features, labels)"
      ],
      "metadata": {
        "colab": {
          "base_uri": "https://localhost:8080/"
        },
        "id": "mzMG45zm-HQN",
        "outputId": "e25bb327-0823-4ea7-b86a-3c6ef4b0fabd"
      },
      "execution_count": null,
      "outputs": [
        {
          "output_type": "stream",
          "name": "stdout",
          "text": [
            "(array([1.423e+01, 1.710e+00, 2.430e+00, 1.560e+01, 1.270e+02, 2.800e+00,\n",
            "       3.060e+00, 2.800e-01, 2.290e+00, 5.640e+00, 1.040e+00, 3.920e+00,\n",
            "       1.065e+03], dtype=float32), array([1.], dtype=float32))\n",
            "[1.423e+01 1.710e+00 2.430e+00 1.560e+01 1.270e+02 2.800e+00 3.060e+00\n",
            " 2.800e-01 2.290e+00 5.640e+00 1.040e+00 3.920e+00 1.065e+03] [1.]\n"
          ]
        }
      ]
    },
    {
      "cell_type": "code",
      "source": [
        "dataloader = DataLoader(dataset = dataset , batch_size = 4, shuffle = True,num_workers = 2)\n",
        "dataiter = iter(dataloader)"
      ],
      "metadata": {
        "id": "vr6BdqKKXbcs"
      },
      "execution_count": null,
      "outputs": []
    },
    {
      "cell_type": "code",
      "source": [
        "print(dataiter)\n",
        "data = next(dataiter)\n",
        "features, labels = data\n",
        "print(features, labels)"
      ],
      "metadata": {
        "colab": {
          "base_uri": "https://localhost:8080/"
        },
        "id": "8ur68AhvZ0SC",
        "outputId": "d8e5c466-ee8d-4c1e-9cc8-0de94391e709"
      },
      "execution_count": null,
      "outputs": [
        {
          "output_type": "stream",
          "name": "stdout",
          "text": [
            "<torch.utils.data.dataloader._MultiProcessingDataLoaderIter object at 0x7fd99ac12d60>\n",
            "tensor([[1.2930e+01, 2.8100e+00, 2.7000e+00, 2.1000e+01, 9.6000e+01, 1.5400e+00,\n",
            "         5.0000e-01, 5.3000e-01, 7.5000e-01, 4.6000e+00, 7.7000e-01, 2.3100e+00,\n",
            "         6.0000e+02],\n",
            "        [1.3630e+01, 1.8100e+00, 2.7000e+00, 1.7200e+01, 1.1200e+02, 2.8500e+00,\n",
            "         2.9100e+00, 3.0000e-01, 1.4600e+00, 7.3000e+00, 1.2800e+00, 2.8800e+00,\n",
            "         1.3100e+03],\n",
            "        [1.2850e+01, 3.2700e+00, 2.5800e+00, 2.2000e+01, 1.0600e+02, 1.6500e+00,\n",
            "         6.0000e-01, 6.0000e-01, 9.6000e-01, 5.5800e+00, 8.7000e-01, 2.1100e+00,\n",
            "         5.7000e+02],\n",
            "        [1.3750e+01, 1.7300e+00, 2.4100e+00, 1.6000e+01, 8.9000e+01, 2.6000e+00,\n",
            "         2.7600e+00, 2.9000e-01, 1.8100e+00, 5.6000e+00, 1.1500e+00, 2.9000e+00,\n",
            "         1.3200e+03]]) tensor([[3.],\n",
            "        [1.],\n",
            "        [3.],\n",
            "        [1.]])\n"
          ]
        }
      ]
    },
    {
      "cell_type": "code",
      "source": [
        "# training loop\n",
        "num_epochs = 2 \n",
        "total_samples = len(dataset)\n",
        "n_iterations = math.ceil(total_samples/4)\n",
        "print(total_samples, n_iterations)\n",
        "\n",
        "for epoch in range(num_epochs):\n",
        "  for i, (inputs,labels) in enumerate(dataloader):\n",
        "    # forward backward , update\n",
        "    # print(f'input: {inputs} \\n labels: {labels}')\n",
        "    if (i+1)% 5 == 0:\n",
        "      print(f'epoch {epoch+1}/{num_epochs}, step {i+1}/{n_iterations}, input {inputs.shape}')"
      ],
      "metadata": {
        "colab": {
          "base_uri": "https://localhost:8080/"
        },
        "id": "LZGQAgT3aAqE",
        "outputId": "5f1e5a29-9397-43a9-ac91-3db57475037c"
      },
      "execution_count": null,
      "outputs": [
        {
          "output_type": "stream",
          "name": "stdout",
          "text": [
            "178 45\n",
            "epoch 1/2, step 5/45, input torch.Size([4, 13])\n",
            "epoch 1/2, step 10/45, input torch.Size([4, 13])\n",
            "epoch 1/2, step 15/45, input torch.Size([4, 13])\n",
            "epoch 1/2, step 20/45, input torch.Size([4, 13])\n",
            "epoch 1/2, step 25/45, input torch.Size([4, 13])\n",
            "epoch 1/2, step 30/45, input torch.Size([4, 13])\n",
            "epoch 1/2, step 35/45, input torch.Size([4, 13])\n",
            "epoch 1/2, step 40/45, input torch.Size([4, 13])\n",
            "epoch 1/2, step 45/45, input torch.Size([2, 13])\n",
            "epoch 2/2, step 5/45, input torch.Size([4, 13])\n",
            "epoch 2/2, step 10/45, input torch.Size([4, 13])\n",
            "epoch 2/2, step 15/45, input torch.Size([4, 13])\n",
            "epoch 2/2, step 20/45, input torch.Size([4, 13])\n",
            "epoch 2/2, step 25/45, input torch.Size([4, 13])\n",
            "epoch 2/2, step 30/45, input torch.Size([4, 13])\n",
            "epoch 2/2, step 35/45, input torch.Size([4, 13])\n",
            "epoch 2/2, step 40/45, input torch.Size([4, 13])\n",
            "epoch 2/2, step 45/45, input torch.Size([2, 13])\n"
          ]
        }
      ]
    },
    {
      "cell_type": "markdown",
      "source": [
        "# Data Loader and Data set\n"
      ],
      "metadata": {
        "id": "TW0Tw6pbopnx"
      }
    },
    {
      "cell_type": "markdown",
      "source": [
        "data with transformation "
      ],
      "metadata": {
        "id": "b7QDBM_-ovkY"
      }
    },
    {
      "cell_type": "markdown",
      "source": [],
      "metadata": {
        "id": "reJDKqj1osou"
      }
    },
    {
      "cell_type": "code",
      "source": [
        "class WineDataset(Dataset):\n",
        "  \n",
        "  def __init__(self, transform = None):\n",
        "    xy = np.loadtxt('/content/wine.csv', delimiter = ',' , dtype = np.float32 , skiprows = 1)\n",
        "    self.x = xy[:,1:] # read feature columns\n",
        "    self.y = xy[:,[0]] # n_sample, 1 read target column\n",
        "    self.n_samples = xy.shape[0]\n",
        "\n",
        "    self.transform = transform\n",
        "\n",
        "  def __getitem__(self, index):  # redefine access method\n",
        "    sample = self.x[index], self.y[index]\n",
        "    \n",
        "    if self.transform:\n",
        "      sample = self.transform(sample)\n",
        "    \n",
        "    return sample\n",
        "\n",
        "\n",
        "  def __len__(self): # redefine len method \n",
        "    return self.n_samples\n",
        "\n",
        "class  ToTensor: # transform narray to tensor\n",
        "  def __call__(call,sample):\n",
        "    inputs, targets = sample\n",
        "    return torch.from_numpy(inputs), torch.from_numpy(targets)\n",
        "\n",
        "class MulTransform: # multiply tensor by factor\n",
        "  def __init__(self, factor):\n",
        "    self.factor = factor\n",
        "  \n",
        "  def __call__(self, sample):\n",
        "    inputs, targets = sample\n",
        "    inputs *= self.factor\n",
        "    return inputs, targets\n",
        "\n",
        "dataset = WineDataset(transform = None)\n",
        "first_data = dataset[0]\n",
        "print(first_data)\n",
        "features , labels = first_data\n",
        "print(type(features), type(labels))\n",
        "\n",
        "composed = torchvision.transforms.Compose([ToTensor(), \n",
        "                                           MulTransform(2)])# Create sequence of transform\n",
        "dataset = WineDataset(transform = composed)\n",
        "first_data = dataset[0]\n",
        "print(first_data)\n",
        "features , labels = first_data\n",
        "print(type(features), type(labels))\n"
      ],
      "metadata": {
        "colab": {
          "base_uri": "https://localhost:8080/"
        },
        "id": "drZchXEebudm",
        "outputId": "5c66537c-4bfe-440d-f9de-afa199462947"
      },
      "execution_count": null,
      "outputs": [
        {
          "output_type": "stream",
          "name": "stdout",
          "text": [
            "(array([1.423e+01, 1.710e+00, 2.430e+00, 1.560e+01, 1.270e+02, 2.800e+00,\n",
            "       3.060e+00, 2.800e-01, 2.290e+00, 5.640e+00, 1.040e+00, 3.920e+00,\n",
            "       1.065e+03], dtype=float32), array([1.], dtype=float32))\n",
            "<class 'numpy.ndarray'> <class 'numpy.ndarray'>\n",
            "(tensor([2.8460e+01, 3.4200e+00, 4.8600e+00, 3.1200e+01, 2.5400e+02, 5.6000e+00,\n",
            "        6.1200e+00, 5.6000e-01, 4.5800e+00, 1.1280e+01, 2.0800e+00, 7.8400e+00,\n",
            "        2.1300e+03]), tensor([1.]))\n",
            "<class 'torch.Tensor'> <class 'torch.Tensor'>\n"
          ]
        }
      ]
    },
    {
      "cell_type": "markdown",
      "source": [
        "# Soft max\n",
        "[0 , 1]"
      ],
      "metadata": {
        "id": "h7eE8Jj2r3h-"
      }
    },
    {
      "cell_type": "code",
      "source": [
        "def softmax(x):\n",
        "  return np.exp(x)/np.sum(np.exp(x), axis=0) \n",
        "\n",
        "x = np.array([2.0,1.0,0.1])\n",
        "outputs = softmax(x)\n",
        "print('softmax numpy:', outputs)\n",
        "\n",
        "x = torch.tensor([2.0,1.0,0.1])\n",
        "outputs = torch.softmax(x,dim=0)\n",
        "print(outputs)"
      ],
      "metadata": {
        "colab": {
          "base_uri": "https://localhost:8080/"
        },
        "id": "YNtBiCUim9if",
        "outputId": "a705f167-3d08-4bfb-f72c-cd2fa12f535d"
      },
      "execution_count": null,
      "outputs": [
        {
          "output_type": "stream",
          "name": "stdout",
          "text": [
            "softmax numpy: [0.65900114 0.24243297 0.09856589]\n"
          ]
        }
      ]
    },
    {
      "cell_type": "markdown",
      "source": [
        "# Cross-entropy"
      ],
      "metadata": {
        "id": "0cJRUI9ws-PR"
      }
    },
    {
      "cell_type": "code",
      "source": [
        "def cross_entropy(actual, predicted):\n",
        "  loss = -np.sum(actual * np.log(predicted))\n",
        "  return loss\n",
        "\n",
        "# label that alread had One-hot encodered\n",
        "Y = np.array([0,1,0])\n",
        "\n",
        "Y_pred_good = np.array([0.7,0.2,0.1])\n",
        "Y_pred_bad = np.array([0.1,0.3,0.6])\n",
        "\n",
        "l1 =  cross_entropy(Y,Y_pred_good)\n",
        "l2 =  cross_entropy(Y,Y_pred_bad)\n",
        "\n",
        "print(f'Loss1 numpy: {l1:.4f}')\n",
        "print(f'Loss2 numpy: {l2:.4f}')"
      ],
      "metadata": {
        "colab": {
          "base_uri": "https://localhost:8080/"
        },
        "id": "Lmknx25qsfd1",
        "outputId": "83679415-4a12-4841-a78e-82a54df1b808"
      },
      "execution_count": null,
      "outputs": [
        {
          "output_type": "stream",
          "name": "stdout",
          "text": [
            "Loss1 numpy: 1.6094\n",
            "Loss2 numpy: 1.2040\n"
          ]
        }
      ]
    },
    {
      "cell_type": "code",
      "source": [
        "loss = nn.CrossEntropyLoss()\n",
        "\n",
        "# sample \n",
        "Y = torch.tensor([2])\n",
        "\n",
        "# nsamples x nclasses = 1x3\n",
        "# จำลองค่าที่ predict ในที่ predict มีแค่ 3 ค่าให้เทียบกันเท่านั้นแสดงว่ามี 3 class \n",
        "y_pred_good = torch.tensor([[2.0, 1.0, 0.1]])\n",
        "y_pred_bad = torch.tensor([[0.5, 2.0, 0.3]])\n",
        "\n",
        "l1 =  loss(y_pred_good , Y)\n",
        "l2 =  loss(y_pred_bad, Y)\n",
        "\n",
        "\n",
        "print(f'Loss1 numpy: {l1.item():.4f}')\n",
        "print(f'Loss2 numpy: {l2.item():.4f}')\n",
        "\n",
        "_, prediction1 = torch.max(y_pred_good, 1)\n",
        "_, prediction2 = torch.max(y_pred_bad, 1)\n",
        "print(prediction1 )\n",
        "print(prediction2)"
      ],
      "metadata": {
        "colab": {
          "base_uri": "https://localhost:8080/"
        },
        "id": "nscz9aV8tfON",
        "outputId": "35be7af1-1079-47cd-af07-8d0df242f4d2"
      },
      "execution_count": null,
      "outputs": [
        {
          "output_type": "stream",
          "name": "stdout",
          "text": [
            "Loss1 numpy: 2.3170\n",
            "Loss2 numpy: 2.0406\n",
            "tensor([0])\n",
            "tensor([1])\n"
          ]
        }
      ]
    },
    {
      "cell_type": "markdown",
      "source": [
        "# FeedForward Neural network"
      ],
      "metadata": {
        "id": "IKtL3oMg-eDM"
      }
    },
    {
      "cell_type": "code",
      "source": [
        "# hyper parameters\n",
        "input_size = 784 # 28x28\n",
        "hidden_size = 100 \n",
        "num_classes = 10\n",
        "num_epochs = 2\n",
        "batch_size = 100 \n",
        "learning_rate = 0.001\n",
        "\n",
        "# MNIST\n",
        "train_dataset = torchvision.datasets.MNIST( root='./data', train=True, \n",
        "                                           transform = transforms.ToTensor(), download=True)\n",
        "\n",
        "test_dataset = torchvision.datasets.MNIST( root='./data', train = False, \n",
        "                                           transform = transforms.ToTensor())\n",
        "\n",
        "train_loader = torch.utils.data.DataLoader(dataset = train_dataset, batch_size = batch_size ,\n",
        "                                           shuffle = True)\n",
        "\n",
        "test_loader = torch.utils.data.DataLoader(dataset = test_dataset, batch_size = batch_size ,\n",
        "                                           shuffle = False)\n",
        "\n",
        "examples = iter(train_loader)\n",
        "samples, labels = next(examples)\n",
        "print(samples.shape, labels.shape)\n",
        "\n"
      ],
      "metadata": {
        "colab": {
          "base_uri": "https://localhost:8080/",
          "referenced_widgets": [
            "2a2f38d33e2747d3ac837fc5645b7b27",
            "0f42f865a437496dbb5f54b9b69decc6",
            "840ab9d17d594fd1b53472133170552e",
            "dca318a8e39e4216b3e4de6989831ce7",
            "0a7226e416dd48c3a2ac24573de448db",
            "2de35e75849b486783da648d8e5f2865",
            "967f8eeca535427d955600b42957541a",
            "9673df356a7c49eeaed1c5107537b114",
            "1ddc98eca6af406aafdc86f33ef74d82",
            "5fe1af0319c94ee9839cc61abe1a110b",
            "d2c3ff2aee2948ca9b72fb493c244b8f",
            "aa2a8e0ddc2648e781483d06e9dd50c7",
            "665ec34821364e6883c9bb36b59f28ca",
            "b060fe2aba6f434e837cc73ed256a11b",
            "c5699378db99408caee3cad30aa244d1",
            "935ccbbd40924692ba62dec976acd617",
            "1580ae3a46c24469a71068eb6a78deb5",
            "1497d83a6d744984b6f6eab8ae704187",
            "4e225b7ee8d64f42b5dc49397892a3da",
            "3810f5bb4d0b483e98ab5a67f3b74331",
            "64555a7ca0764927bbab551b373ea557",
            "1ac02a03bddf4974a55cd53665fcbeae",
            "630d0440ff644444be9bfffa0600f04a",
            "f061100563c34d5ba2940501384ea7cf",
            "7af21ef06b83486eb07dd4f921827f77",
            "83e246bd12fc401497dd5fc35dd31bc6",
            "e87cbed2d5fc40f4be01a6ebd2ae02ed",
            "0f0d285c06f54cd2929557e3eec4c881",
            "9db0e26eca87462ca2dbd2eff88fe2e7",
            "1a10a219838848b08d56738111f3fee6",
            "6dffcffccc804f018bc7a504be541d76",
            "52a96c9079c84e03ac32f01487fc4760",
            "e60793681907451d8c58effb86c59a3a",
            "69766a805d974c6dbaf5cf79cb20a467",
            "a59777f502b74b28b6011e7ea44c9d36",
            "c4e6d753729a4dafbe6701513c426b29",
            "026a4b37e1f64790bc33a797d9fc1f66",
            "7f13efecf1c54abaa23b908efc788aef",
            "9d373b1de13a46bdab9a57c6232b84d9",
            "42a2ed5ef357424ca53779aef16d353a",
            "3e71cb1dbe5549dd922714f511247652",
            "e8dfecec23fe47688687032e8b13ee31",
            "00e29d74d3244e028ffb8ff4631047c7",
            "d17eadaad89c4ca99b5172fb4af8d318"
          ]
        },
        "id": "mkSXmXrLNXYz",
        "outputId": "cdc24887-acf3-4aa6-c31b-64d71017189c"
      },
      "execution_count": null,
      "outputs": [
        {
          "output_type": "stream",
          "name": "stdout",
          "text": [
            "Downloading http://yann.lecun.com/exdb/mnist/train-images-idx3-ubyte.gz\n",
            "Downloading http://yann.lecun.com/exdb/mnist/train-images-idx3-ubyte.gz to ./data/MNIST/raw/train-images-idx3-ubyte.gz\n"
          ]
        },
        {
          "output_type": "display_data",
          "data": {
            "text/plain": [
              "  0%|          | 0/9912422 [00:00<?, ?it/s]"
            ],
            "application/vnd.jupyter.widget-view+json": {
              "version_major": 2,
              "version_minor": 0,
              "model_id": "2a2f38d33e2747d3ac837fc5645b7b27"
            }
          },
          "metadata": {}
        },
        {
          "output_type": "stream",
          "name": "stdout",
          "text": [
            "Extracting ./data/MNIST/raw/train-images-idx3-ubyte.gz to ./data/MNIST/raw\n",
            "\n",
            "Downloading http://yann.lecun.com/exdb/mnist/train-labels-idx1-ubyte.gz\n",
            "Downloading http://yann.lecun.com/exdb/mnist/train-labels-idx1-ubyte.gz to ./data/MNIST/raw/train-labels-idx1-ubyte.gz\n"
          ]
        },
        {
          "output_type": "display_data",
          "data": {
            "text/plain": [
              "  0%|          | 0/28881 [00:00<?, ?it/s]"
            ],
            "application/vnd.jupyter.widget-view+json": {
              "version_major": 2,
              "version_minor": 0,
              "model_id": "aa2a8e0ddc2648e781483d06e9dd50c7"
            }
          },
          "metadata": {}
        },
        {
          "output_type": "stream",
          "name": "stdout",
          "text": [
            "Extracting ./data/MNIST/raw/train-labels-idx1-ubyte.gz to ./data/MNIST/raw\n",
            "\n",
            "Downloading http://yann.lecun.com/exdb/mnist/t10k-images-idx3-ubyte.gz\n",
            "Downloading http://yann.lecun.com/exdb/mnist/t10k-images-idx3-ubyte.gz to ./data/MNIST/raw/t10k-images-idx3-ubyte.gz\n"
          ]
        },
        {
          "output_type": "display_data",
          "data": {
            "text/plain": [
              "  0%|          | 0/1648877 [00:00<?, ?it/s]"
            ],
            "application/vnd.jupyter.widget-view+json": {
              "version_major": 2,
              "version_minor": 0,
              "model_id": "630d0440ff644444be9bfffa0600f04a"
            }
          },
          "metadata": {}
        },
        {
          "output_type": "stream",
          "name": "stdout",
          "text": [
            "Extracting ./data/MNIST/raw/t10k-images-idx3-ubyte.gz to ./data/MNIST/raw\n",
            "\n",
            "Downloading http://yann.lecun.com/exdb/mnist/t10k-labels-idx1-ubyte.gz\n",
            "Downloading http://yann.lecun.com/exdb/mnist/t10k-labels-idx1-ubyte.gz to ./data/MNIST/raw/t10k-labels-idx1-ubyte.gz\n"
          ]
        },
        {
          "output_type": "display_data",
          "data": {
            "text/plain": [
              "  0%|          | 0/4542 [00:00<?, ?it/s]"
            ],
            "application/vnd.jupyter.widget-view+json": {
              "version_major": 2,
              "version_minor": 0,
              "model_id": "69766a805d974c6dbaf5cf79cb20a467"
            }
          },
          "metadata": {}
        },
        {
          "output_type": "stream",
          "name": "stdout",
          "text": [
            "Extracting ./data/MNIST/raw/t10k-labels-idx1-ubyte.gz to ./data/MNIST/raw\n",
            "\n",
            "torch.Size([100, 1, 28, 28]) torch.Size([100])\n"
          ]
        }
      ]
    },
    {
      "cell_type": "code",
      "source": [
        "for i in range(6):\n",
        "  plt.subplot(2,3, i+1)\n",
        "  plt.imshow(samples[i+5][0], cmap= 'gray')\n",
        "plt.show()\n"
      ],
      "metadata": {
        "colab": {
          "base_uri": "https://localhost:8080/"
        },
        "id": "UVDTdTvgOr7i",
        "outputId": "2033159e-b6af-4ba8-c8bb-218b3e22e5ca"
      },
      "execution_count": null,
      "outputs": [
        {
          "output_type": "display_data",
          "data": {
            "text/plain": [
              "<Figure size 432x288 with 6 Axes>"
            ],
            "image/png": "[encoded data removed]"
          },
          "metadata": {
            "needs_background": "light"
          }
        }
      ]
    },
    {
      "cell_type": "code",
      "source": [
        "class NeuralNet(nn.Module):\n",
        "  def __init__(self,input_size, hidden_size, num_classes):\n",
        "    super(NeuralNet,self).__init__()\n",
        "    self.l1 = nn.Linear(input_size, hidden_size)\n",
        "    self.relu = nn.ReLU()\n",
        "    self.l2 = nn.Linear(hidden_size, num_classes)\n",
        "\n",
        "  def forward(self, x):\n",
        "    out = self.l1(x)\n",
        "    out = self.relu(out)\n",
        "    out = self.l2(out)\n",
        "    return out \n",
        "\n",
        "model = NeuralNet(input_size, hidden_size, num_classes)\n",
        "\n",
        "criterion = nn.CrossEntropyLoss()\n",
        "optimizer = torch.optim.Adam(model.parameters(), lr = learning_rate)\n",
        "\n",
        "n_total_steps = len(train_loader)\n",
        "for epoch in range(num_epochs):\n",
        "  for i, (images, labels) in enumerate(train_loader):\n",
        "    images = images.reshape(-1, 28*28).to(device) #Flatten from 28*28 to 784\n",
        "    labels = labels.to(device)\n",
        "\n",
        "    #forward\n",
        "    outputs = model(images)\n",
        "    loss = criterion(outputs, labels)\n",
        "\n",
        "    #backward\n",
        "    optimizer.zero_grad() #clear grad variable\n",
        "    loss.backward() # get new grad value\n",
        "    optimizer.step() # update our weight\n",
        "\n",
        "    if(i+1) % 100 == 0 :\n",
        "      print(f'epoch {epoch +1} / {num_epochs}, step {i+1}/{n_total_steps}, loss={loss.item():.4f}')\n",
        "\n",
        "# test\n",
        "with torch.no_grad():\n",
        "  n_correct = 0 \n",
        "  n_samples = 0 \n",
        "  for images, labels in test_loader :\n",
        "    images = images.reshape(-1,28*28).to(device)\n",
        "    labels = labels.to(device)\n",
        "    outputs = model(images)\n",
        "\n",
        "    _, predictions = torch.max(outputs, 1)\n",
        "    n_samples += labels.shape[0]\n",
        "    n_correct += (predictions == labels).sum().item()\n",
        "\n",
        "  acc = 100.0 * n_correct / n_samples\n",
        "  print(f'accuracu = {acc}')\n",
        "\n"
      ],
      "metadata": {
        "colab": {
          "base_uri": "https://localhost:8080/"
        },
        "id": "lc36ebKoPKnx",
        "outputId": "18789a3b-96e0-404f-98a7-5155cd1a0972"
      },
      "execution_count": null,
      "outputs": [
        {
          "output_type": "stream",
          "name": "stdout",
          "text": [
            "epoch 1 / 2, step 100/600, loss=0.4112\n",
            "epoch 1 / 2, step 200/600, loss=0.4952\n",
            "epoch 1 / 2, step 300/600, loss=0.3753\n",
            "epoch 1 / 2, step 400/600, loss=0.2262\n",
            "epoch 1 / 2, step 500/600, loss=0.2930\n",
            "epoch 1 / 2, step 600/600, loss=0.3091\n",
            "epoch 2 / 2, step 100/600, loss=0.1691\n",
            "epoch 2 / 2, step 200/600, loss=0.2796\n",
            "epoch 2 / 2, step 300/600, loss=0.1938\n",
            "epoch 2 / 2, step 400/600, loss=0.2810\n",
            "epoch 2 / 2, step 500/600, loss=0.1162\n",
            "epoch 2 / 2, step 600/600, loss=0.2308\n",
            "accuracu = 94.94\n"
          ]
        }
      ]
    },
    {
      "cell_type": "markdown",
      "source": [
        "# CNN"
      ],
      "metadata": {
        "id": "DhrC17uLj2bL"
      }
    },
    {
      "cell_type": "code",
      "source": [
        "num_epochs  = 5\n",
        "batch_size = 4\n",
        "learning_rate = 0.001\n",
        "\n",
        "transform = transforms.Compose(\n",
        "    [transforms.ToTensor(),\n",
        "     transforms.Normalize((0.5,0.5,0.5),(0.5,0.5,0.5))]\n",
        ")\n",
        "\n",
        "train_dataset = torchvision.datasets.CIFAR10(root='./data', train = True,\n",
        "                                             download = True, transform = transform)\n",
        "\n",
        "test_dataset = torchvision.datasets.CIFAR10(root='./data', train = False,\n",
        "                                             download = True, transform = transform)\n",
        "train_loader = torch.utils.data.DataLoader(train_dataset , batch_size = batch_size, shuffle = True)\n",
        "\n",
        "test_loader = torch.utils.data.DataLoader(test_dataset , batch_size = batch_size, shuffle = False )\n",
        "\n",
        "classes = ('plane','car','bird','cat','deer','dog','frog','horse','ship','truck')\n",
        "\n"
      ],
      "metadata": {
        "colab": {
          "base_uri": "https://localhost:8080/",
          "height": 101,
          "referenced_widgets": [
            "e1b6d59ee623414b97a9d314bac5e8e1",
            "308af99e763846fda6c5905199574ced",
            "36cc794d815d4823b78d27a15d498792",
            "9b9139bee79f4846ae1a47cbaeb87633",
            "1835177d6f15400fa75c775edfb4e48a",
            "7c66fe2101914627aa556567f2c921e8",
            "b14d89e227d449089e736737aac1f950",
            "ae2833248b4c4502b5c133a57e09fed9",
            "7b2f3e8676154f8c9ed51a9189164033",
            "4bcdd93abe1b4272b88966ed01b23d70",
            "60c20ae001ec48d8920410bcb7fff763"
          ]
        },
        "id": "HGU2NgvnPu5F",
        "outputId": "37980c43-f9c7-4e37-db01-36a408adf747"
      },
      "execution_count": null,
      "outputs": [
        {
          "output_type": "stream",
          "name": "stdout",
          "text": [
            "Downloading https://www.cs.toronto.edu/~kriz/cifar-10-python.tar.gz to ./data/cifar-10-python.tar.gz\n"
          ]
        },
        {
          "output_type": "display_data",
          "data": {
            "text/plain": [
              "  0%|          | 0/170498071 [00:00<?, ?it/s]"
            ],
            "application/vnd.jupyter.widget-view+json": {
              "version_major": 2,
              "version_minor": 0,
              "model_id": "e1b6d59ee623414b97a9d314bac5e8e1"
            }
          },
          "metadata": {}
        },
        {
          "output_type": "stream",
          "name": "stdout",
          "text": [
            "Extracting ./data/cifar-10-python.tar.gz to ./data\n",
            "Files already downloaded and verified\n"
          ]
        }
      ]
    },
    {
      "cell_type": "code",
      "source": [
        "class ConvNet(nn.Module): # Create model\n",
        "  def __init__(self):\n",
        "    super(ConvNet,self).__init__()\n",
        "    self.conv1 = nn.Conv2d(3,6,5)\n",
        "    self.pool = nn.MaxPool2d(2,2)\n",
        "    self.conv2 = nn.Conv2d(6,16,5)\n",
        "    self.fc1 = nn.Linear(16*5*5, 120)\n",
        "    self.fc2 = nn.Linear(120,84)\n",
        "    self.fc3 = nn.Linear(84,10)\n",
        "  \n",
        "  def forward(self, x):\n",
        "    x = self.pool(F.relu(self.conv1(x)))\n",
        "    x = self.pool(F.relu(self.conv2(x)))\n",
        "    x = x.view(-1,16*5*5)\n",
        "    x = F.relu(self.fc1(x))\n",
        "    x = F.relu(self.fc2(x))\n",
        "    x = self.fc3(x)\n",
        "    return x\n",
        "\n",
        "model = ConvNet().to(device) # ยัด model เข้าไป  process ใน gpu\n",
        "\n",
        "criterion = nn.CrossEntropyLoss() # lossFN for Multi-classification Problem\n",
        "optimizer = torch.optim.SGD(model.parameters(), lr = learning_rate)\n",
        "\n",
        "n_total_steps = len(train_loader) # total in each training epochs\n",
        "for epoch in range(num_epochs):\n",
        "  for i , (images, labels) in enumerate(train_loader):\n",
        "    # origin_shape [4,3,32,32] = 4 = batch_size ,3 = channel ,1024 = w*h pixels\n",
        "    # input_layer : 3 input channels, 6 output channels , 5 kernel size \n",
        "    images = images.to(device)\n",
        "    labels = labels.to(device)\n",
        "\n",
        "    #forward pass\n",
        "    outputs = model(images)\n",
        "    loss = criterion(outputs, labels)\n",
        "\n",
        "    #Backward and optimize\n",
        "    optimizer.zero_grad() # clear current weight \n",
        "    loss.backward() # calculate next weights\n",
        "    optimizer.step() # update weights   \n",
        "\n",
        "    if (i+1) % 2000 == 0 :\n",
        "      print(f'Epoch [{epoch+1}/{num_epochs}], step [{i+1}/{n_total_steps}], loss: {loss.item():.4f} ')\n",
        "\n",
        "print('Finished Training')\n",
        "\n",
        "\n"
      ],
      "metadata": {
        "colab": {
          "base_uri": "https://localhost:8080/"
        },
        "id": "5EMMKTcLklCJ",
        "outputId": "dcb6a392-f94a-4a18-a2b7-efa2e874e7d6"
      },
      "execution_count": null,
      "outputs": [
        {
          "output_type": "stream",
          "name": "stdout",
          "text": [
            "Epoch [1/5], step [2000/12500], loss: 2.2870 \n",
            "Epoch [1/5], step [4000/12500], loss: 2.2917 \n",
            "Epoch [1/5], step [6000/12500], loss: 2.2812 \n",
            "Epoch [1/5], step [8000/12500], loss: 2.2741 \n",
            "Epoch [1/5], step [10000/12500], loss: 2.2559 \n",
            "Epoch [1/5], step [12000/12500], loss: 2.1862 \n",
            "Epoch [2/5], step [2000/12500], loss: 2.0955 \n",
            "Epoch [2/5], step [4000/12500], loss: 1.6076 \n",
            "Epoch [2/5], step [6000/12500], loss: 1.6540 \n",
            "Epoch [2/5], step [8000/12500], loss: 1.5627 \n",
            "Epoch [2/5], step [10000/12500], loss: 2.3302 \n",
            "Epoch [2/5], step [12000/12500], loss: 1.2353 \n",
            "Epoch [3/5], step [2000/12500], loss: 1.2430 \n",
            "Epoch [3/5], step [4000/12500], loss: 2.0873 \n",
            "Epoch [3/5], step [6000/12500], loss: 1.5616 \n",
            "Epoch [3/5], step [8000/12500], loss: 2.6558 \n",
            "Epoch [3/5], step [10000/12500], loss: 1.8875 \n",
            "Epoch [3/5], step [12000/12500], loss: 1.5898 \n",
            "Epoch [4/5], step [2000/12500], loss: 1.1586 \n",
            "Epoch [4/5], step [4000/12500], loss: 2.2712 \n",
            "Epoch [4/5], step [6000/12500], loss: 1.5511 \n",
            "Epoch [4/5], step [8000/12500], loss: 1.7033 \n",
            "Epoch [4/5], step [10000/12500], loss: 1.0267 \n",
            "Epoch [4/5], step [12000/12500], loss: 1.5282 \n",
            "Epoch [5/5], step [2000/12500], loss: 1.3273 \n",
            "Epoch [5/5], step [4000/12500], loss: 1.2467 \n",
            "Epoch [5/5], step [6000/12500], loss: 1.1130 \n",
            "Epoch [5/5], step [8000/12500], loss: 1.5764 \n",
            "Epoch [5/5], step [10000/12500], loss: 1.1761 \n",
            "Epoch [5/5], step [12000/12500], loss: 2.0407 \n",
            "Finished Training\n"
          ]
        }
      ]
    },
    {
      "cell_type": "code",
      "source": [
        "with torch.no_grad():\n",
        "  n_correct = 0 \n",
        "  n_samples = 0\n",
        "  n_class_correct = [0 for i in range(10)]\n",
        "  n_class_samples = [0 for i in range(10)]\n",
        "  for images, labels in test_loader:\n",
        "    images = images.to(device) \n",
        "    labels = labels.to(device)\n",
        "    outputs = model(images)\n",
        "\n",
        "    #max return (value, index)\n",
        "    _, predicted = torch.max(outputs, 1)\n",
        "    n_samples += labels.size(0)\n",
        "    n_correct += (predicted == labels).sum().item()\n",
        "\n",
        "  \n",
        "    for i in range(batch_size):\n",
        "      # print(labels[i] , predicted[i])\n",
        "      label = labels[i]\n",
        "      pred = predicted[i]\n",
        "      if (label == pred):\n",
        "          n_class_correct[label] += 1\n",
        "      n_class_samples[label] += 1\n",
        "    # print(n_class_samples)\n",
        "  acc = 100.0* n_correct / n_samples\n",
        "  print(f'Accuracy of the network: {acc} %')\n",
        "\n",
        "  for i in range(10): # print the acc of each class\n",
        "    acc = 100.0 * n_class_correct[i] / n_class_samples[i]\n",
        "    print(f'Accuracy of {classes[i]}: {acc} %')\n"
      ],
      "metadata": {
        "colab": {
          "base_uri": "https://localhost:8080/"
        },
        "id": "X5lyjfn6p5cI",
        "outputId": "44219582-4535-4c5e-a30f-ad93498c2ae7"
      },
      "execution_count": null,
      "outputs": [
        {
          "output_type": "stream",
          "name": "stdout",
          "text": [
            "Accuracy of the network: 49.02 %\n",
            "Accuracy of plane: 72.9 %\n",
            "Accuracy of car: 62.9 %\n",
            "Accuracy of bird: 35.6 %\n",
            "Accuracy of cat: 16.9 %\n",
            "Accuracy of deer: 34.6 %\n",
            "Accuracy of dog: 35.1 %\n",
            "Accuracy of frog: 65.2 %\n",
            "Accuracy of horse: 63.9 %\n",
            "Accuracy of ship: 49.8 %\n",
            "Accuracy of truck: 53.3 %\n"
          ]
        }
      ]
    },
    {
      "cell_type": "markdown",
      "source": [
        "# TensorBoard\n",
        "- Pls run FeedForward Neural network before progress in this section"
      ],
      "metadata": {
        "id": "uB8KXXnoCHmD"
      }
    },
    {
      "cell_type": "code",
      "source": [],
      "metadata": {
        "id": "xX_9s-Uqzaqf"
      },
      "execution_count": null,
      "outputs": []
    },
    {
      "cell_type": "markdown",
      "source": [
        "# Save Model\n",
        "- torch.save(arg,PATH)\n",
        "- torch.load(PATH)\n",
        "- model.load_state_dict(arg)"
      ],
      "metadata": {
        "id": "j7pN6Pb90Hek"
      }
    },
    {
      "cell_type": "code",
      "source": [
        "# lazy save\n",
        "# torch.save(model, PATH)\n",
        "# model = torch.load(PATH)\n",
        "# model.eval()\n",
        "\n",
        "# Save model for inference\n",
        "# torch.save(model.state_dict(),PATH)\n",
        "# model = Model(*args, **kwargs)\n",
        "# model.load_state_dict(torch.load(PATH))\n",
        "# model.eval()\n"
      ],
      "metadata": {
        "id": "30p_h8tl0KWQ"
      },
      "execution_count": null,
      "outputs": []
    }
  ]
}